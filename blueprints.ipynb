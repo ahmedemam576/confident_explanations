{
 "cells": [
  {
   "cell_type": "markdown",
   "id": "b2ad10a6-3276-41a6-94d4-05364835497c",
   "metadata": {},
   "source": [
    "### visulaizing the  corine images"
   ]
  },
  {
   "cell_type": "markdown",
   "id": "093f9a31",
   "metadata": {},
   "source": [
    "### The corine land cover classes"
   ]
  },
  {
   "cell_type": "code",
   "execution_count": 17,
   "id": "760bd90b-70a6-4959-991c-7faa9d7b1790",
   "metadata": {},
   "outputs": [],
   "source": [
    "clcc ={111:'cont. urban fabric',\n",
    " 112:'disc urban fabric',\n",
    " 121:'industrial or commercial units',\n",
    " 122:'road and rail',\n",
    " 123:'port areas',\n",
    " 124:'airports',\n",
    " 131:'mineral extraction sites',\n",
    " 132:'dump sites',\n",
    " 133:'construction sites',\n",
    " 141:'green urban areas',\n",
    " 142:'sport and leasure',\n",
    " 211:'non irregated arable land',\n",
    " 212:'permenant irregated land',\n",
    " 213:'rice fields',\n",
    " 221:'vine yards',\n",
    " 223:'olive groves',\n",
    " 231:'pastures',\n",
    " 241:'annual with perm. crops',\n",
    " 242:'complex cultivation patters',\n",
    " 243:'land principally occupied by agriculture',\n",
    " 244:'agro forest areas',\n",
    " 311:'broad leaved forest',\n",
    " 312:'conferous forest',\n",
    " 313:'mixed forest',\n",
    " 321:'natural grassland',\n",
    " 322:'moors and heathland',\n",
    " 323: 'scierohllous vegitation',\n",
    " 324:'transitional woodland shrub',\n",
    " 331: 'beaches dunes and sand plains',\n",
    " 332:'bare rock',\n",
    " 333:'sparsely vegetated areas',\n",
    " 334:'burnt areas',\n",
    " 335:'glaciers and perpetual snow',\n",
    " 411:'inland marshes',\n",
    " 412:'peat bogs',\n",
    " 421:'salt marshes',\n",
    " 422:'salines',\n",
    " 423:'intertidal flats',\n",
    " 511:'water courses',\n",
    " 512:'water bodies',\n",
    " 521:'costal lagoons',\n",
    " 522:'estuaries',\n",
    " 523:'sea and ocean'}\n",
    " \n",
    " \n",
    "\n",
    "\n",
    "\n",
    "\n",
    "\n",
    "\n",
    "\n",
    "\n",
    "\n",
    "\n",
    "\n",
    "\n",
    "\n",
    "\n"
   ]
  },
  {
   "cell_type": "code",
   "execution_count": 18,
   "id": "06e10dd5-ddb6-483b-b053-7d0bd6079b7c",
   "metadata": {},
   "outputs": [],
   "source": [
    "landcovers = [key for idx, key in enumerate(clcc) ]"
   ]
  },
  {
   "cell_type": "code",
   "execution_count": 19,
   "id": "64adb4e5-338e-4639-a3de-15bf16188e47",
   "metadata": {},
   "outputs": [
    {
     "data": {
      "text/plain": [
       "43"
      ]
     },
     "execution_count": 19,
     "metadata": {},
     "output_type": "execute_result"
    }
   ],
   "source": [
    "len(landcovers)"
   ]
  },
  {
   "cell_type": "markdown",
   "id": "78b43d91",
   "metadata": {},
   "source": [
    "### Algorithm to change a segmentation mask into a feature vector \n",
    "#### where each element represnts the number of pixels of each class in each segmentation mask\n",
    "#### The first part is a dataloader for the segmentation mask and the labels of wild and non wild"
   ]
  },
  {
   "cell_type": "code",
   "execution_count": 3,
   "id": "92ee2631-df09-4829-93de-0e7e6490dc04",
   "metadata": {},
   "outputs": [
    {
     "ename": "NameError",
     "evalue": "name 'landcovers' is not defined",
     "output_type": "error",
     "traceback": [
      "\u001b[0;31m---------------------------------------------------------------------------\u001b[0m",
      "\u001b[0;31mNameError\u001b[0m                                 Traceback (most recent call last)",
      "\u001b[0;32m/tmp/ipykernel_8708/3437187090.py\u001b[0m in \u001b[0;36m<module>\u001b[0;34m\u001b[0m\n\u001b[1;32m     54\u001b[0m \u001b[0;31m#print(images[0])\u001b[0m\u001b[0;34m\u001b[0m\u001b[0;34m\u001b[0m\u001b[0m\n\u001b[1;32m     55\u001b[0m \u001b[0;31m# Iterate over the data loader\u001b[0m\u001b[0;34m\u001b[0m\u001b[0;34m\u001b[0m\u001b[0m\n\u001b[0;32m---> 56\u001b[0;31m \u001b[0marray\u001b[0m \u001b[0;34m=\u001b[0m \u001b[0mlandcovers\u001b[0m\u001b[0;34m\u001b[0m\u001b[0;34m\u001b[0m\u001b[0m\n\u001b[0m\u001b[1;32m     57\u001b[0m \u001b[0mfeature_array\u001b[0m \u001b[0;34m=\u001b[0m \u001b[0;34m[\u001b[0m\u001b[0;34m]\u001b[0m\u001b[0;34m\u001b[0m\u001b[0;34m\u001b[0m\u001b[0m\n\u001b[1;32m     58\u001b[0m \u001b[0mtarget_labels\u001b[0m \u001b[0;34m=\u001b[0m \u001b[0;34m[\u001b[0m\u001b[0;34m]\u001b[0m\u001b[0;34m\u001b[0m\u001b[0;34m\u001b[0m\u001b[0m\n",
      "\u001b[0;31mNameError\u001b[0m: name 'landcovers' is not defined"
     ]
    }
   ],
   "source": [
    "#final code\n",
    "# to do list is to build a transparent model to train on the classes\n",
    "import glob\n",
    "import os\n",
    "import torch\n",
    "from torch.utils.data import Dataset, DataLoader\n",
    "import pandas as pd\n",
    "from PIL import Image\n",
    "import tifffile as tiff\n",
    "import time\n",
    "from tqdm import tqdm\n",
    "\n",
    "\n",
    "class CustomDataset(Dataset):\n",
    "    def __init__(self, csv_file, root):\n",
    "        self.data = pd.read_csv(csv_file)\n",
    "        \n",
    "        self.image_paths = sorted(glob.glob(os.path.join(root)+ '/*.*'))\n",
    "        #self.image_paths = (self.data['file'])\n",
    "        #print(len(self.image_paths))\n",
    "        #self.image_paths = sorted(glob.glob(os.path.join('/home/ahmedemam576/working_folder/data/anthroprotect/tiles/lcs', self.image_paths)))\n",
    "        self.labels = self.data['label']\n",
    "\n",
    "    def __len__(self):\n",
    "        return len(self.image_paths)\n",
    "\n",
    "    def __getitem__(self, idx):\n",
    "        \n",
    "        image_path = self.image_paths[idx]\n",
    "        \n",
    "        label = self.labels[idx]\n",
    "\n",
    "        \n",
    "        # we need to open the image as a tiff file and take the first channel representing the corine channel\n",
    "        image = tiff.imread(image_path)\n",
    "        image = image.astype('int')\n",
    "        #print(image.shape)\n",
    "        image = image[:,:,0]\n",
    "\n",
    "        return image, label\n",
    "\n",
    "# Path to the CSV file\n",
    "csv_file = 'infos.csv'\n",
    "\n",
    "# Create an instance of the custom dataset\n",
    "dataset = CustomDataset(csv_file,root = '/home/ahmedemam576/working_folder/data/anthroprotect/tiles/lcs')\n",
    "\n",
    "# Create a data loader to iterate over the dataset\n",
    "batch_size = 1\n",
    "data_loader = DataLoader(dataset, batch_size=batch_size, shuffle=True)\n",
    "# code the image to segmentation mask function:\n",
    "# to extract the corine channel from the path\n",
    "#print(len(data_loader))\n",
    "#print(images[0])\n",
    "# Iterate over the data loader\n",
    "array = landcovers\n",
    "feature_array = []\n",
    "target_labels = []\n",
    "for images, labels in tqdm(data_loader):\n",
    "    # Convert images to segmentation mask here using your own logic\n",
    "    #print('-------loop is working-------')\n",
    "    segmentation_mask = images\n",
    "    #print(len(images))\n",
    "    # Get the unique land cover classes present in the segmentation mask\n",
    "    land_cover_classes = torch.unique(segmentation_mask)\n",
    "\n",
    "    # Compute the number of land cover classes and the maximum number of classes expected\n",
    "    num_classes = len(land_cover_classes)\n",
    "    max_num_classes = 44  # Set the maximum number of land cover classes expected in the dataset\n",
    "    \n",
    "    \n",
    "    # create a dictionary to have the key the land cover class code and as the ni. of pixels of this specific land cover class as data\n",
    "    class_counts = {}\n",
    "    \n",
    "    \n",
    "    \n",
    "    # Generate the vector with the count of pixels for each land cover class\n",
    "    \n",
    "    for class_keys in land_cover_classes:\n",
    "        class_counts = {key: 0 for key in array}\n",
    "\n",
    "        if class_keys in landcovers: # to make sure that we only have the corine land cover classess\n",
    "            \n",
    "\n",
    "        \n",
    "            class_rep = torch.sum(segmentation_mask == class_keys)\n",
    "            #class_keys = class_keys.item\n",
    "            #class_rep = class_rep.item\n",
    "\n",
    "            class_counts[class_keys.item()] = class_rep.item()\n",
    "            #print(class_counts)\n",
    "            #time.sleep(1)\n",
    "            \n",
    "    #print('the label is -->',labels.item())\n",
    "    # Trim the class_counts tensor to the actual number of classes found\n",
    "    #class_counts = class_counts[:num_classes]\n",
    "    \n",
    "    # Print the class counts vector\n",
    "    '''print(\"Class Counts:\")\n",
    "    print(class_counts.values())\n",
    "   \n",
    "    \n",
    "    print('feature_array len-->',len(feature_array),'target_labels len-->',len(target_labels))\n",
    "    print('feature_array -->',(feature_array),'target_labels -->',(target_labels))\n",
    "    #print(labels)\n",
    "    #time.sleep(0)'''\n",
    "    \n",
    "    \n",
    "    feature_array.append(list(class_counts.values()))\n",
    "    target_labels.append(labels.item())\n"
   ]
  },
  {
   "cell_type": "markdown",
   "id": "07ec1faa",
   "metadata": {},
   "source": [
    "### Dataset and dataloader for the scene classification dataset (Anthroprotect dataset)"
   ]
  },
  {
   "cell_type": "code",
   "execution_count": 7,
   "id": "265d734a",
   "metadata": {},
   "outputs": [],
   "source": [
    "import os\n",
    "import pandas as pd\n",
    "from PIL import Image\n",
    "from torch.utils.data import Dataset\n",
    "from torchvision import transforms\n",
    "import tifffile as tiff\n",
    "import torch\n",
    "from torch.utils.data import Dataset, DataLoader, random_split\n",
    "from PIL import Image\n",
    "import torchvision\n",
    "import torchvision.transforms as transforms\n",
    "\n",
    "class CustomDataset(Dataset):\n",
    "    def __init__(self, csv_file, image_folder, transform=None):\n",
    "        self.data = pd.read_csv(csv_file)\n",
    "        self.images = self.data['file']\n",
    "        self.labels = self.data['label']\n",
    "        self.image_folder = image_folder\n",
    "        self.transform = transform\n",
    "\n",
    "    def __len__(self):\n",
    "        return len(self.data)\n",
    "\n",
    "    def __getitem__(self, index):\n",
    "        image_name = self.images[index]  # Assuming the image names are in the first column of the CSV file\n",
    "        image_label = self.labels[index]\n",
    "        # Construct the complete image path by joining the folder path and image name\n",
    "        image_path = os.path.join(self.image_folder, image_name)\n",
    "\n",
    "        # Open the image using PIL\n",
    "        image = tiff.imread(image_path)\n",
    "        \n",
    "        #choos ethe number of channels you need\n",
    "        image= image[:,:,:3]\n",
    "        #####\n",
    "        \n",
    "        image = image.astype('uint8')\n",
    "        #image = image.astype('int')\n",
    "        # Apply transformations, if provided\n",
    "        if self.transform:\n",
    "            #pil_image = Image.fromarray(image)\n",
    "            image = self.transform(image)\n",
    "            \n",
    "        \n",
    "\n",
    "            \n",
    "\n",
    "        return image, image_label\n",
    "    \n",
    "    \n",
    "csv_file =  'infos.csv'\n",
    "image_folder = '~/working_folder/data/anthroprotect/tiles/s2'\n",
    "transform = transforms.ToTensor()  # Example transformation, you can add more\n",
    "\n",
    "dataset = CustomDataset(csv_file, image_folder, transform=transform) # Replace with your actual dataset instantiation\n",
    "\n",
    "# Define the ratio of the dataset to be used for testing\n",
    "test_ratio = 0.2\n",
    "\n",
    "# Calculate the number of samples for testing\n",
    "test_size = int(test_ratio * len(dataset))\n",
    "\n",
    "# Calculate the number of samples for training\n",
    "train_size = len(dataset) - test_size\n",
    "\n",
    "# Split the dataset into training and testing datasets\n",
    "train_dataset, test_dataset = random_split(dataset, [train_size, test_size])\n",
    "\n",
    "# Create DataLoader instances for training and testing datasets\n",
    "train_loader = DataLoader(train_dataset, batch_size=32, shuffle=True)\n",
    "test_loader = DataLoader(test_dataset, batch_size=32, shuffle=False)\n",
    "\n",
    "\n",
    "# Example usage\n",
    "\n",
    "\n",
    "\n"
   ]
  },
  {
   "cell_type": "code",
   "execution_count": 8,
   "id": "349b39eb",
   "metadata": {},
   "outputs": [],
   "source": [
    "transform = transforms.Compose([\n",
    "    transforms.ToPILImage(),\n",
    "    transforms.Resize((256, 256)),  # Resize the image to (224, 224)\n",
    "    transforms.ToTensor()  # Convert the PIL Image to tensor\n",
    "])\n",
    "scene_dataset= CustomDataset(csv_file, '/home/ahmedemam576/working_folder/data/anthroprotect/tiles/s2',transform)\n"
   ]
  },
  {
   "cell_type": "code",
   "execution_count": 9,
   "id": "edf52b1f",
   "metadata": {},
   "outputs": [
    {
     "data": {
      "text/plain": [
       "23919"
      ]
     },
     "execution_count": 9,
     "metadata": {},
     "output_type": "execute_result"
    }
   ],
   "source": [
    "batch_size = 128  # Define the batch size\n",
    "data_loader = DataLoader(scene_dataset, batch_size=batch_size, shuffle=True)\n",
    "\n",
    "len(dataset)"
   ]
  },
  {
   "cell_type": "markdown",
   "id": "4b2a08b7",
   "metadata": {},
   "source": [
    "### a classifier for scence classification, with a method to extract a the embeddings from the bottelneck"
   ]
  },
  {
   "cell_type": "code",
   "execution_count": 11,
   "id": "1356f4a3",
   "metadata": {},
   "outputs": [],
   "source": [
    "import torch\n",
    "import torch.nn as nn\n",
    "\n",
    "\n",
    "import torch\n",
    "import torch.nn as nn\n",
    "\n",
    "\n",
    "\n",
    "class DeepClassifier(nn.Module):\n",
    "    def __init__(self, num_classes):\n",
    "        super(DeepClassifier, self).__init__()\n",
    "        \n",
    "        self.features = nn.Sequential(\n",
    "            nn.Conv2d(3, 32, kernel_size=3, stride=1, padding=1),\n",
    "            nn.ReLU(),\n",
    "            nn.MaxPool2d(kernel_size=2, stride=2),\n",
    "            nn.Conv2d(32, 64, kernel_size=3, stride=1, padding=1),\n",
    "            nn.ReLU(),\n",
    "            nn.MaxPool2d(kernel_size=2, stride=2),\n",
    "            nn.Conv2d(64, 128, kernel_size=3, stride=1, padding=1),\n",
    "            nn.ReLU(),\n",
    "            nn.MaxPool2d(kernel_size=2, stride=2),\n",
    "            nn.Conv2d(128, 256, kernel_size=3, stride=1, padding=1),\n",
    "            nn.ReLU(),\n",
    "            nn.MaxPool2d(kernel_size=2, stride=2),\n",
    "        )\n",
    "        \n",
    "        self.embedding = nn.Sequential(\n",
    "            nn.Linear(256 * 16 * 16, 512),\n",
    "            nn.ReLU(),\n",
    "            nn.Linear(512, 10),\n",
    "            nn.ReLU()\n",
    "        )\n",
    "        self.classifier = nn.Sequential(\n",
    "            nn.Linear(10,1),\n",
    "            nn.Sigmoid())\n",
    "    \n",
    "    def forward(self, x):\n",
    "        features = self.features(x)\n",
    "        flattened = torch.flatten(features, start_dim=1)\n",
    "        embedding = self.embedding(flattened)\n",
    "        output = self.classifier(embedding)\n",
    "        \n",
    "        return output, embedding\n",
    "\n",
    "# Example usage\n",
    "input_channels = 3\n",
    "image_size = 256\n",
    "num_classes = 1\n",
    "model = DeepClassifier(num_classes)\n",
    "\n",
    "model = model.to('cuda')\n",
    "\n",
    "# Training the model\n",
    "criterion = nn.MSELoss()\n",
    "optimizer = torch.optim.Adam(model.parameters(), lr=0.001)\n"
   ]
  },
  {
   "cell_type": "markdown",
   "id": "22652b22",
   "metadata": {},
   "source": [
    "### Training of the scene classifier"
   ]
  },
  {
   "cell_type": "code",
   "execution_count": 13,
   "id": "0d964b0f",
   "metadata": {},
   "outputs": [
    {
     "name": "stderr",
     "output_type": "stream",
     "text": [
      "Training Progress:   5%|█▎                       | 1/20 [01:00<19:03, 60.19s/it]"
     ]
    },
    {
     "name": "stdout",
     "output_type": "stream",
     "text": [
      "Training MSE: 0.0792\n"
     ]
    },
    {
     "name": "stderr",
     "output_type": "stream",
     "text": [
      "Training Progress:  10%|██▌                      | 2/20 [02:01<18:11, 60.63s/it]"
     ]
    },
    {
     "name": "stdout",
     "output_type": "stream",
     "text": [
      "Training MSE: 0.0658\n"
     ]
    },
    {
     "name": "stderr",
     "output_type": "stream",
     "text": [
      "Training Progress:  15%|███▊                     | 3/20 [03:00<17:04, 60.24s/it]"
     ]
    },
    {
     "name": "stdout",
     "output_type": "stream",
     "text": [
      "Training MSE: 0.0487\n"
     ]
    },
    {
     "name": "stderr",
     "output_type": "stream",
     "text": [
      "Training Progress:  20%|█████                    | 4/20 [04:01<16:05, 60.33s/it]"
     ]
    },
    {
     "name": "stdout",
     "output_type": "stream",
     "text": [
      "Training MSE: 0.0314\n"
     ]
    },
    {
     "name": "stderr",
     "output_type": "stream",
     "text": [
      "Training Progress:  25%|██████▎                  | 5/20 [05:01<15:05, 60.35s/it]"
     ]
    },
    {
     "name": "stdout",
     "output_type": "stream",
     "text": [
      "Training MSE: 0.0251\n"
     ]
    },
    {
     "name": "stderr",
     "output_type": "stream",
     "text": [
      "Training Progress:  30%|███████▌                 | 6/20 [06:01<14:04, 60.29s/it]"
     ]
    },
    {
     "name": "stdout",
     "output_type": "stream",
     "text": [
      "Training MSE: 0.0217\n"
     ]
    },
    {
     "name": "stderr",
     "output_type": "stream",
     "text": [
      "Training Progress:  35%|████████▊                | 7/20 [07:02<13:05, 60.44s/it]"
     ]
    },
    {
     "name": "stdout",
     "output_type": "stream",
     "text": [
      "Training MSE: 0.0179\n"
     ]
    },
    {
     "name": "stderr",
     "output_type": "stream",
     "text": [
      "Training Progress:  40%|██████████               | 8/20 [08:03<12:05, 60.44s/it]"
     ]
    },
    {
     "name": "stdout",
     "output_type": "stream",
     "text": [
      "Training MSE: 0.0134\n"
     ]
    },
    {
     "name": "stderr",
     "output_type": "stream",
     "text": [
      "Training Progress:  45%|███████████▎             | 9/20 [09:03<11:03, 60.29s/it]"
     ]
    },
    {
     "name": "stdout",
     "output_type": "stream",
     "text": [
      "Training MSE: 0.0127\n"
     ]
    },
    {
     "name": "stderr",
     "output_type": "stream",
     "text": [
      "Training Progress:  50%|████████████            | 10/20 [10:05<10:09, 60.94s/it]"
     ]
    },
    {
     "name": "stdout",
     "output_type": "stream",
     "text": [
      "Training MSE: 0.0105\n"
     ]
    },
    {
     "name": "stderr",
     "output_type": "stream",
     "text": [
      "Training Progress:  55%|█████████████▏          | 11/20 [11:06<09:09, 61.07s/it]"
     ]
    },
    {
     "name": "stdout",
     "output_type": "stream",
     "text": [
      "Training MSE: 0.0084\n"
     ]
    },
    {
     "name": "stderr",
     "output_type": "stream",
     "text": [
      "Training Progress:  60%|██████████████▍         | 12/20 [12:09<08:13, 61.70s/it]"
     ]
    },
    {
     "name": "stdout",
     "output_type": "stream",
     "text": [
      "Training MSE: 0.0053\n"
     ]
    },
    {
     "name": "stderr",
     "output_type": "stream",
     "text": [
      "Training Progress:  65%|███████████████▌        | 13/20 [13:14<07:17, 62.56s/it]"
     ]
    },
    {
     "name": "stdout",
     "output_type": "stream",
     "text": [
      "Training MSE: 0.0048\n"
     ]
    },
    {
     "name": "stderr",
     "output_type": "stream",
     "text": [
      "Training Progress:  70%|████████████████▊       | 14/20 [14:17<06:16, 62.82s/it]"
     ]
    },
    {
     "name": "stdout",
     "output_type": "stream",
     "text": [
      "Training MSE: 0.0071\n"
     ]
    },
    {
     "name": "stderr",
     "output_type": "stream",
     "text": [
      "Training Progress:  75%|██████████████████      | 15/20 [15:20<05:13, 62.77s/it]"
     ]
    },
    {
     "name": "stdout",
     "output_type": "stream",
     "text": [
      "Training MSE: 0.0040\n"
     ]
    },
    {
     "name": "stderr",
     "output_type": "stream",
     "text": [
      "Training Progress:  80%|███████████████████▏    | 16/20 [16:25<04:13, 63.29s/it]"
     ]
    },
    {
     "name": "stdout",
     "output_type": "stream",
     "text": [
      "Training MSE: 0.0035\n"
     ]
    },
    {
     "name": "stderr",
     "output_type": "stream",
     "text": [
      "Training Progress:  85%|████████████████████▍   | 17/20 [17:29<03:10, 63.52s/it]"
     ]
    },
    {
     "name": "stdout",
     "output_type": "stream",
     "text": [
      "Training MSE: 0.0068\n"
     ]
    },
    {
     "name": "stderr",
     "output_type": "stream",
     "text": [
      "Training Progress:  90%|█████████████████████▌  | 18/20 [18:33<02:07, 63.87s/it]"
     ]
    },
    {
     "name": "stdout",
     "output_type": "stream",
     "text": [
      "Training MSE: 0.0040\n"
     ]
    },
    {
     "name": "stderr",
     "output_type": "stream",
     "text": [
      "Training Progress:  95%|██████████████████████▊ | 19/20 [19:38<01:03, 63.97s/it]"
     ]
    },
    {
     "name": "stdout",
     "output_type": "stream",
     "text": [
      "Training MSE: 0.0027\n"
     ]
    },
    {
     "name": "stderr",
     "output_type": "stream",
     "text": [
      "Training Progress: 100%|████████████████████████| 20/20 [20:42<00:00, 62.12s/it]"
     ]
    },
    {
     "name": "stdout",
     "output_type": "stream",
     "text": [
      "Training MSE: 0.0033\n"
     ]
    },
    {
     "name": "stderr",
     "output_type": "stream",
     "text": [
      "\n"
     ]
    }
   ],
   "source": [
    "from tqdm import tqdm\n",
    "device = torch.device(\"cuda\" if torch.cuda.is_available() else \"cpu\")\n",
    "num_epochs = 20\n",
    "# Assuming you have your training data in a PyTorch DataLoader called \"train_loader\"\n",
    "for epoch in tqdm(range(num_epochs), desc=\"Training Progress\"):\n",
    "    # Variables to keep track of accuracy and total samples\n",
    "    total_loss = 0.0\n",
    "    total_samples = 0\n",
    "    \n",
    "    for data in data_loader:\n",
    "        inputs, labels = data  \n",
    "        labels = labels.float()\n",
    "        inputs = inputs.to(device)\n",
    "        labels = labels.to(device)\n",
    "        optimizer.zero_grad()\n",
    "        outputs, encoded_data = model(inputs.float())\n",
    "        \n",
    "        \n",
    "        \n",
    "        labels = labels.view(-1, 1)\n",
    "        loss = criterion(outputs, labels)\n",
    "        loss.backward()\n",
    "        optimizer.step()\n",
    "        \n",
    "        total_loss += loss.item() * inputs.size(0)\n",
    "        \n",
    "        total_samples += inputs.size(0)\n",
    "        \n",
    "    mse = total_loss / total_samples\n",
    "    print(f\"Training MSE: {mse:.4f}\")\n",
    "\n"
   ]
  },
  {
   "cell_type": "markdown",
   "id": "693ca480",
   "metadata": {},
   "source": [
    "### Logistic regressor"
   ]
  },
  {
   "cell_type": "code",
   "execution_count": null,
   "id": "755a3dc1",
   "metadata": {},
   "outputs": [],
   "source": [
    "# the transparent model\n",
    "\n",
    "from sklearn.linear_model import LogisticRegression\n",
    "\n",
    "\n",
    "from sklearn.preprocessing import StandardScaler\n",
    "\n",
    "#add the mbedding here\n",
    "\n",
    "X = feature_array. append(embedding)\n",
    "\n",
    "\n",
    "##get the target values from the classifier\n",
    "target = target_labels\n",
    "\n",
    "\n",
    "scaler = StandardScaler()\n",
    "X_scaled = scaler.fit_transform(X)  # Scale the input features\n",
    "\n",
    "logreg = LogisticRegression(max_iter=1000)\n",
    "\n",
    "\n",
    "\n",
    "# Fit the model to the data\n",
    "logreg.fit(X_scaled, target)\n",
    "\n",
    "# Print the coefficients of the trained model\n",
    "coefficients = logreg.coef_[0]\n",
    "for feature, coefficient in zip(clcc.keys(), coefficients):\n",
    "    print(f\"{feature}: {coefficient}\")"
   ]
  },
  {
   "cell_type": "markdown",
   "id": "84a86779",
   "metadata": {},
   "source": [
    "### visulaization the coefficients of the LR"
   ]
  },
  {
   "cell_type": "code",
   "execution_count": null,
   "id": "748d87e6",
   "metadata": {},
   "outputs": [],
   "source": [
    "#the coefficients of the trained transparent model\n",
    "import numpy as np\n",
    "import matplotlib.pyplot as plt\n",
    "\n",
    "# Assuming you have a trained logistic regression model named `logreg`\n",
    "coefficients = coefficients\n",
    "feature_names = list(clcc.values())  # Assuming `input_data` contains the feature names\n",
    "\n",
    "# Sort the coefficients and feature names in descending order of absolute magnitude\n",
    "sorted_indices = np.argsort(np.abs(coefficients))[::-1]\n",
    "sorted_coefficients = coefficients[sorted_indices]\n",
    "sorted_feature_names = [feature_names[i] for i in sorted_indices]\n",
    "\n",
    "# Create the bar plot\n",
    "plt.figure(figsize=(10, 16))\n",
    "plt.barh(range(len(sorted_coefficients)), sorted_coefficients, align='center')\n",
    "plt.yticks(range(len(sorted_coefficients)), sorted_feature_names)\n",
    "plt.xlabel('Coefficient Value')\n",
    "plt.ylabel('Feature')\n",
    "plt.title('Importance of Coefficients in Logistic Regression Model')\n",
    "plt.show()"
   ]
  },
  {
   "cell_type": "code",
   "execution_count": null,
   "id": "97110bcf",
   "metadata": {},
   "outputs": [],
   "source": [
    "import numpy as np\n",
    "import seaborn as sns\n",
    "import matplotlib.pyplot as plt\n",
    "\n",
    "# Assuming you have a trained logistic regression model named `logreg`\n",
    "\n",
    "  # Assuming `input_data` contains the feature names\n",
    "\n",
    "# Sort the coefficients and feature names in descending order of absolute magnitude\n",
    "sorted_indices = np.argsort(np.abs(coefficients))[::-1]\n",
    "sorted_coefficients = coefficients[sorted_indices]\n",
    "sorted_feature_names = [feature_names[i] for i in sorted_indices]\n",
    "\n",
    "# Separate positive and negative coefficients\n",
    "positive_indices = np.where(sorted_coefficients >= 0)[0]\n",
    "negative_indices = np.where(sorted_coefficients < 0)[0]\n",
    "\n",
    "positive_coefficients = sorted_coefficients[positive_indices]\n",
    "positive_feature_names = [sorted_feature_names[i] for i in positive_indices]\n",
    "\n",
    "negative_coefficients = sorted_coefficients[negative_indices]\n",
    "negative_feature_names = [sorted_feature_names[i] for i in negative_indices]\n",
    "\n",
    "# Create separate plots for positive and negative coefficients using Seaborn\n",
    "plt.figure(figsize=(12, 6))\n",
    "\n",
    "# Positive coefficients plot\n",
    "plt.subplot(1, 2, 1)\n",
    "sns.barplot(x=positive_coefficients, y=positive_feature_names)\n",
    "plt.xlabel('Coefficient Value')\n",
    "plt.ylabel('Feature')\n",
    "plt.title('Positive Coefficients')#\n",
    "\n",
    "# Negative coefficients plot\n",
    "plt.subplot(1, 2, 2)\n",
    "sns.barplot(x=negative_coefficients, y=negative_feature_names)\n",
    "plt.xlabel('Coefficient Value')\n",
    "plt.ylabel('Feature')\n",
    "plt.title('Negative Coefficients')\n",
    "\n",
    "plt.tight_layout()\n",
    "plt.show()\n"
   ]
  },
  {
   "cell_type": "code",
   "execution_count": 1,
   "id": "b573d217",
   "metadata": {},
   "outputs": [],
   "source": [
    "landcover_classes = [111,\n",
    " 112,\n",
    " 121,\n",
    " 122,\n",
    " 123,\n",
    " 124,\n",
    " 131,\n",
    " 132,\n",
    " 133,\n",
    " 141,\n",
    " 142,\n",
    " 211,\n",
    " 212,\n",
    " 213,\n",
    " 221,\n",
    " 223,\n",
    " 231,\n",
    " 241,\n",
    " 242,\n",
    " 243,\n",
    " 244,\n",
    " 311,\n",
    " 312,\n",
    " 313,\n",
    " 321,\n",
    " 322,\n",
    " 323,\n",
    " 324,\n",
    " 331,\n",
    " 332,\n",
    " 333,\n",
    " 334,\n",
    " 335,\n",
    " 411,\n",
    " 412,\n",
    " 421,\n",
    " 422,\n",
    " 423,\n",
    " 511,\n",
    " 512,\n",
    " 521,\n",
    " 522,\n",
    " 523]\n"
   ]
  },
  {
   "cell_type": "markdown",
   "id": "5135f312",
   "metadata": {},
   "source": [
    "### turning the ground truth segmenation masks into one-hot encoded L* W * C matrix "
   ]
  },
  {
   "cell_type": "code",
   "execution_count": 3,
   "id": "27494ec9",
   "metadata": {},
   "outputs": [],
   "source": [
    "import pandas as pd\n",
    "import tifffile as tiff\n",
    "from tqdm import tqdm\n",
    "import numpy as np\n",
    "from PIL import Image\n",
    "import os\n",
    "\n",
    "\n",
    "\n",
    "\n",
    "def onehot_code(csv_file, images_folder, onehot_folder):\n",
    "    #image_path = \"onehotcoded_masks\"\n",
    "    image_path=onehot_folder\n",
    "    csv_file = pd.read_csv(csv_file)\n",
    "    masks_names= csv_file['file']\n",
    "    masks_paths = [os.path.join(images_folder, name) for name in masks_names ] # a list of the masks paths\n",
    "    print(masks_paths[:5])\n",
    "    for n,mask  in enumerate(tqdm(masks_paths)):\n",
    "        tiff_mask = tiff.imread(mask)\n",
    "        target= tiff_mask[:,:,0] # chosse the corine channel\n",
    "        #target = target.astype('uint8')\n",
    "        \n",
    "\n",
    "\n",
    "        # Create an empty tensor with the appropriate size\n",
    "        one_hot = np.zeros((target.shape[0], target.shape[1], len(landcover_classes)))\n",
    "        \n",
    "\n",
    "        # Iterate over the unique class codes and assign 1 to the corresponding channel\n",
    "        for i, code in enumerate(landcover_classes):\n",
    "\n",
    "            one_hot[:, :, i] = (target == code).astype(int)\n",
    "            transposed_one_hot = np.transpose(one_hot, (2,0 , 1))\n",
    "            \n",
    "        im = tiff.imsave(f\"{onehot_folder}/{masks_names[n]}\", transposed_one_hot)\n",
    "      \n",
    "                    \n",
    "\n",
    "                \n",
    "   \n",
    "\n",
    "\n",
    "        \n",
    "        \n",
    "        \n",
    "        \n",
    "        \n",
    "    \n",
    "    \n",
    " \n",
    "\n"
   ]
  },
  {
   "cell_type": "code",
   "execution_count": 5,
   "id": "e874d0c5",
   "metadata": {},
   "outputs": [
    {
     "name": "stdout",
     "output_type": "stream",
     "text": [
      "['/home/ahmedemam576/working_folder/data/anthroprotect/tiles/lcs/anthropo_10.20696-59.31534_0.tif', '/home/ahmedemam576/working_folder/data/anthroprotect/tiles/lcs/anthropo_10.20696-59.31534_1.tif', '/home/ahmedemam576/working_folder/data/anthroprotect/tiles/lcs/anthropo_10.20696-59.31534_10.tif', '/home/ahmedemam576/working_folder/data/anthroprotect/tiles/lcs/anthropo_10.20696-59.31534_11.tif', '/home/ahmedemam576/working_folder/data/anthroprotect/tiles/lcs/anthropo_10.20696-59.31534_12.tif']\n"
     ]
    },
    {
     "name": "stderr",
     "output_type": "stream",
     "text": [
      "100%|███████████████████████████████████████████████████████████████████████████████████████████████████████████████████████████████████████████████████████████████████████████████████████████████████████████████████████████████████████| 23919/23919 [15:46<00:00, 25.27it/s]\n"
     ]
    }
   ],
   "source": [
    "onehot_code('infos.csv','/home/ahmedemam576/working_folder/data/anthroprotect/tiles/lcs',\"onehotmasked_2\")"
   ]
  },
  {
   "cell_type": "code",
   "execution_count": 25,
   "id": "59fb88f1",
   "metadata": {},
   "outputs": [],
   "source": [
    "import numpy as np\n",
    "\n",
    "# Original landcover_classes\n",
    "landcover_classes = [111, 112, 121, 122, 123, 124, 131, 132, 133, 141, 142,\n",
    "                     211, 212, 213, 221, 223, 231, 241, 242, 243, 244,\n",
    "                     311, 312, 313, 321, 322, 323, 324, 331, 332, 333, 334, 335,\n",
    "                     411, 412, 421, 422, 423, 511, 512, 521, 522, 523]\n",
    "\n",
    "# Create a mapping dictionary to map the original classes to the new ones (0 to 43)\n",
    "mapping_dict = {cls: idx for idx, cls in enumerate(landcover_classes)}\n",
    "os.makedirs(\"new_masks\", exist_ok=True)\n",
    "\n",
    "def class_code(csv_file, images_folder):\n",
    "    #image_path = \"onehotcoded_masks\"\n",
    "    \n",
    "    csv_file = pd.read_csv(csv_file)\n",
    "    masks_names= csv_file['file']\n",
    "    masks_paths = [os.path.join(images_folder, name) for name in masks_names ] \n",
    "# Assuming you have a list of segmentation masks as NumPy arrays in 'dataset'\n",
    "    for i, mask in enumerate(tqdm(masks_paths)):\n",
    "        tiff_mask = tiff.imread(mask)\n",
    "        target= tiff_mask[:,:,0]\n",
    "        # Remap the pixel values in the segmentation mask using the mapping dictionary\n",
    "        new_mask = np.array([mapping_dict.get(cls, 0) for cls in target], dtype=int)\n",
    "        #print(np.unique(new_mask))\n",
    "        \n",
    "        \n",
    "# Save the new dataset to a file (e.g., a .npy file)\n",
    "    np.save(os.path.join(\"new_masks\", f\"{mask}\"), new_mask)\n"
   ]
  },
  {
   "cell_type": "code",
   "execution_count": 67,
   "id": "b94662b8",
   "metadata": {},
   "outputs": [
    {
     "name": "stderr",
     "output_type": "stream",
     "text": [
      "100%|██████████████████████████████████████████████████████████████████████████████████████████████████████████████████████████████████████████████████████████████████████████████████████████████████████████████████████████████████████| 23919/23919 [02:49<00:00, 141.30it/s]\n"
     ]
    }
   ],
   "source": [
    "import os\n",
    "import numpy as np\n",
    "import pandas as pd\n",
    "import tifffile as tiff\n",
    "from tqdm import tqdm\n",
    "\n",
    "# Original landcover_classes\n",
    "landcover_classes = [111, 112, 121, 122, 123, 124, 131, 132, 133, 141, 142,\n",
    "                     211, 212, 213, 221, 223, 231, 241, 242, 243, 244,\n",
    "                     311, 312, 313, 321, 322, 323, 324, 331, 332, 333, 334, 335,\n",
    "                     411, 412, 421, 422, 423, 511, 512, 521, 522, 523]\n",
    "\n",
    "# Create a mapping dictionary to map the original classes to the new ones (0 to 43)\n",
    "mapping_dict = {cls: idx for idx, cls in enumerate(landcover_classes)}\n",
    "os.makedirs(\"new_masks\", exist_ok=True)\n",
    "\n",
    "def remap_class(cls):\n",
    "    return mapping_dict.get(cls, 0)\n",
    "\n",
    "def class_code(csv_file, images_folder):\n",
    "    csv_file = pd.read_csv(csv_file)\n",
    "    masks_names = csv_file['file']\n",
    "    masks_paths = [os.path.join(images_folder, name) for name in masks_names] \n",
    "\n",
    "    for i, mask in enumerate(tqdm(masks_paths)):\n",
    "        tiff_mask = tiff.imread(mask)\n",
    "        target = tiff_mask[:, :, 0]\n",
    "        \n",
    "        # Remap the pixel values in the segmentation mask using the mapping dictionary\n",
    "        new_mask = np.vectorize(remap_class, otypes=[int])(target)\n",
    "        \n",
    "        # Save the new mask to the 'new_masks' folder\n",
    "        #filename = os.path.splitext(os.path.basename(mask))[0]  # Get the filename without extension\n",
    "        im = tiff.imsave(f\"new_masks/{masks_names[i]}\", new_mask)\n",
    "\n",
    "# Call the function with the input csv_file and images_folder\n",
    "class_code('infos.csv', '/home/ahmedemam576/working_folder/data/anthroprotect/tiles/lcs')\n"
   ]
  },
  {
   "cell_type": "code",
   "execution_count": 65,
   "id": "674b0e71",
   "metadata": {},
   "outputs": [],
   "source": [
    "import os\n",
    "\n",
    "# Replace 'folder_path' with the path of the folder containing your images\n",
    "folder_path = '/home/ahmedemam576/greybox/corine_images/new_masks/'\n",
    "\n",
    "# Get a list of all files in the folder\n",
    "file_list = os.listdir(folder_path)\n",
    "\n",
    "# Filter only the files without the '.tif' extension (assuming they are the images)\n",
    "image_files = [file for file in file_list if not file.endswith('.tif')]\n",
    "\n",
    "# Rename each image file by adding the '.tif' extension\n",
    "for image_file in image_files:\n",
    "    old_path = os.path.join(folder_path, image_file)\n",
    "    new_path = os.path.join(folder_path, f\"{os.path.splitext(image_file)[0]}.tif\")\n",
    "    os.rename(old_path, new_path)\n"
   ]
  },
  {
   "cell_type": "code",
   "execution_count": 64,
   "id": "f13af39f",
   "metadata": {},
   "outputs": [
    {
     "name": "stdout",
     "output_type": "stream",
     "text": [
      "(256, 256)\n"
     ]
    },
    {
     "data": {
      "image/png": "[encoded data removed]",
      "text/plain": [
       "<Figure size 640x480 with 1 Axes>"
      ]
     },
     "metadata": {},
     "output_type": "display_data"
    }
   ],
   "source": [
    "tiff_mask = '/home/ahmedemam576/greybox/corine_images/new_masks/anthropo_5.52111-59.46264_0'\n",
    "import matplotlib.pyplot as plt\n",
    "import tifffile as tiff\n",
    "\n",
    "# Load the TIFF image\n",
    "image = tiff.imread(tiff_mask)\n",
    "print(image.shape)\n",
    "# Display the image using matplotlib\n",
    "plt.imshow(image)\n",
    "plt.axis('off')  # Optional to hide axis ticks\n",
    "plt.show()\n"
   ]
  },
  {
   "cell_type": "code",
   "execution_count": 67,
   "id": "e034ce12",
   "metadata": {},
   "outputs": [
    {
     "name": "stdout",
     "output_type": "stream",
     "text": [
      "Requirement already satisfied: opencv-python in /home/ahmedemam576/coding_streak_envionment/Anconda3/lib/python3.9/site-packages (4.7.0.68)\n",
      "Requirement already satisfied: numpy>=1.19.3 in /home/ahmedemam576/coding_streak_envionment/Anconda3/lib/python3.9/site-packages (from opencv-python) (1.21.5)\n",
      "Note: you may need to restart the kernel to use updated packages.\n"
     ]
    }
   ],
   "source": [
    "pip install opencv-python"
   ]
  },
  {
   "cell_type": "markdown",
   "id": "49a26f3a",
   "metadata": {},
   "source": [
    "### Fine tunning pretrained segmentation model deeplapv3"
   ]
  },
  {
   "cell_type": "code",
   "execution_count": 74,
   "id": "e5bfebad",
   "metadata": {},
   "outputs": [
    {
     "name": "stderr",
     "output_type": "stream",
     "text": [
      "/home/ahmedemam576/coding_streak_envionment/Anconda3/lib/python3.9/site-packages/torchvision/models/_utils.py:208: UserWarning: The parameter 'pretrained' is deprecated since 0.13 and may be removed in the future, please use 'weights' instead.\n",
      "  warnings.warn(\n",
      "/home/ahmedemam576/coding_streak_envionment/Anconda3/lib/python3.9/site-packages/torchvision/models/_utils.py:223: UserWarning: Arguments other than a weight enum or `None` for 'weights' are deprecated since 0.13 and may be removed in the future. The current behavior is equivalent to passing `weights=DeepLabV3_ResNet50_Weights.COCO_WITH_VOC_LABELS_V1`. You can also use `weights=DeepLabV3_ResNet50_Weights.DEFAULT` to get the most up-to-date weights.\n",
      "  warnings.warn(msg)\n",
      " 46%|████████████████▍                   | 5449/11960 [54:16<1:04:51,  1.67it/s]\n"
     ]
    },
    {
     "ename": "RuntimeError",
     "evalue": "CUDA error: unspecified launch failure\nCUDA kernel errors might be asynchronously reported at some other API call,so the stacktrace below might be incorrect.\nFor debugging consider passing CUDA_LAUNCH_BLOCKING=1.",
     "output_type": "error",
     "traceback": [
      "\u001b[0;31m---------------------------------------------------------------------------\u001b[0m",
      "\u001b[0;31mRuntimeError\u001b[0m                              Traceback (most recent call last)",
      "\u001b[0;32m/tmp/ipykernel_8533/3157128924.py\u001b[0m in \u001b[0;36m<module>\u001b[0;34m\u001b[0m\n\u001b[1;32m    130\u001b[0m \u001b[0;34m\u001b[0m\u001b[0m\n\u001b[1;32m    131\u001b[0m         \u001b[0moptimizer\u001b[0m\u001b[0;34m.\u001b[0m\u001b[0mzero_grad\u001b[0m\u001b[0;34m(\u001b[0m\u001b[0;34m)\u001b[0m\u001b[0;34m\u001b[0m\u001b[0;34m\u001b[0m\u001b[0m\n\u001b[0;32m--> 132\u001b[0;31m         \u001b[0mimages\u001b[0m\u001b[0;34m,\u001b[0m \u001b[0mtargets\u001b[0m \u001b[0;34m=\u001b[0m \u001b[0mimages\u001b[0m\u001b[0;34m.\u001b[0m\u001b[0mcuda\u001b[0m\u001b[0;34m(\u001b[0m\u001b[0;34m)\u001b[0m\u001b[0;34m,\u001b[0m \u001b[0mtargets\u001b[0m\u001b[0;34m.\u001b[0m\u001b[0mcuda\u001b[0m\u001b[0;34m(\u001b[0m\u001b[0;34m)\u001b[0m\u001b[0;34m\u001b[0m\u001b[0;34m\u001b[0m\u001b[0m\n\u001b[0m\u001b[1;32m    133\u001b[0m         \u001b[0;31m# Forward pass\u001b[0m\u001b[0;34m\u001b[0m\u001b[0;34m\u001b[0m\u001b[0m\n\u001b[1;32m    134\u001b[0m         \u001b[0moutputs\u001b[0m \u001b[0;34m=\u001b[0m \u001b[0mmodel\u001b[0m\u001b[0;34m(\u001b[0m\u001b[0mimages\u001b[0m\u001b[0;34m)\u001b[0m\u001b[0;34m\u001b[0m\u001b[0;34m\u001b[0m\u001b[0m\n",
      "\u001b[0;31mRuntimeError\u001b[0m: CUDA error: unspecified launch failure\nCUDA kernel errors might be asynchronously reported at some other API call,so the stacktrace below might be incorrect.\nFor debugging consider passing CUDA_LAUNCH_BLOCKING=1."
     ]
    }
   ],
   "source": [
    "import torch\n",
    "import torchvision.transforms as transforms\n",
    "from PIL import Image\n",
    "from torchvision.models import segmentation\n",
    "from torch.utils.data import Dataset, DataLoader\n",
    "import pandas as pd\n",
    "import os\n",
    "import tifffile as tiff\n",
    "import cv2\n",
    "\n",
    "# Custom dataset class\n",
    "class CustomDataset(Dataset):\n",
    "    def __init__(self, csv_file, image_folder, target_folder,transform_image=None,transform_target=None):\n",
    "        \n",
    "        self.data = pd.read_csv(csv_file)\n",
    "        \n",
    "        \n",
    "        #the scene input images and the target segmentation maps both have the same name but in different folder\n",
    "        \n",
    "        \n",
    "        \n",
    "        self.image_paths = self.data['file']\n",
    "        self.image_folder = image_folder\n",
    "        self.target_folder = target_folder\n",
    "        \n",
    "        \n",
    "        self.transform = transform\n",
    "        self.transform_target = transform_target\n",
    "\n",
    "    def __getitem__(self, index):\n",
    "  \n",
    "\n",
    "        \n",
    "        # Construct the complete image path by joining the folder path and image name\n",
    "        image_name = self.image_paths[index] \n",
    "        image_path = os.path.join(self.image_folder, image_name)\n",
    "\n",
    "        \n",
    "        # Open the image using PIL\n",
    "        image = tiff.imread(image_path)\n",
    "        #choos ethe number of channels you need\n",
    "        image= image[:,:,:3]\n",
    "\n",
    "        image = image.astype('uint8')\n",
    "        \n",
    "        #\n",
    "        \n",
    "        target_path = os.path.join(self.target_folder, image_name)\n",
    "        target = tiff.imread(target_path)\n",
    "        target = np.transpose(target, (1,2,0))\n",
    "\n",
    "\n",
    "\n",
    "\n",
    "\n",
    "        target = cv2.resize(target, dsize=(512, 512), interpolation=cv2.INTER_CUBIC)\n",
    "\n",
    "        #target = target.astype('uint8')\n",
    "        \n",
    "        ## turning the ground truth segmenation mask into a (L,W,CLASSES) one hot-hot encoded matrix\n",
    "        #target = Image.fromarray(target)\n",
    "        #target = target.resize((512,512))\n",
    "        \n",
    "        \n",
    "        \n",
    "\n",
    "        if self.transform:\n",
    "            \n",
    "            image = self.transform(image)\n",
    "            target = self.transform_target(target)\n",
    "            \n",
    "            \n",
    "            \n",
    "\n",
    "        return image, target\n",
    "\n",
    "    def __len__(self):\n",
    "        return len(self.image_paths)\n",
    "    #-----------------------------------------------------------------------------------#\n",
    "\n",
    "# Define the paths to your training data\n",
    "\n",
    "\n",
    "# Set random seed for reproducibility\n",
    "torch.manual_seed(42)\n",
    "\n",
    "# Initialize the model and set it to training mode\n",
    "\n",
    "model = segmentation.deeplabv3_resnet50(pretrained=True)\n",
    "model.classifier[-1] = torch.nn.Conv2d(256, 43, kernel_size=1)\n",
    "model.train()\n",
    "model.to('cuda')\n",
    "\n",
    "# Set up the optimizer and loss function\n",
    "optimizer = torch.optim.Adam(model.parameters(), lr=0.001)\n",
    "criterion = torch.nn.CrossEntropyLoss()\n",
    "\n",
    "# Define the transformation for input images and labels\n",
    "transform = transforms.Compose([\n",
    "    transforms.ToPILImage(),\n",
    "    \n",
    "    transforms.Resize((512,512)),\n",
    "    transforms.ToTensor(),\n",
    "    transforms.Normalize(mean=[0.485, 0.456, 0.406], std=[0.229, 0.224, 0.225])\n",
    "    \n",
    "])\n",
    "\n",
    "#transforms.ToPILImage(),\n",
    "#transform_target =transforms.Compose([transforms.Resize((512, 512)),\n",
    "#                                         transforms.ToTensor()])\n",
    "\n",
    "transform_target = transforms.ToTensor()\n",
    "\n",
    "#---------------------------------------------------------------------------------------------------#\n",
    "\n",
    "csv_file =  'infos.csv'\n",
    "image_folder = '/home/ahmedemam576/working_folder/data/anthroprotect/tiles/s2'\n",
    "target_folder='/home/ahmedemam576/greybox/corine_images/onehotcoded_masks/'\n",
    "    \n",
    "# Create the custom dataset\n",
    "dataset = CustomDataset(csv_file, image_folder, target_folder,transform_image=transform, transform_target =transform_target)\n",
    "\n",
    "# Create the data loader\n",
    "dataloader = DataLoader(dataset, batch_size=2, shuffle=True)\n",
    "\n",
    "# Training loop\n",
    "num_epochs = 10\n",
    "for epoch in range(num_epochs):\n",
    "    for images, targets in tqdm(dataloader):\n",
    "        \n",
    "        optimizer.zero_grad()\n",
    "        images, targets = images.cuda(), targets.cuda()\n",
    "        # Forward pass\n",
    "        outputs = model(images)        \n",
    "        loss = criterion(outputs['out'], targets)\n",
    "\n",
    "        # Backward pass and optimization\n",
    "        loss.backward()\n",
    "        optimizer.step()\n",
    "\n",
    "    print(f\"Epoch [{epoch+1}/{num_epochs}], Loss: {loss.item()}\")\n",
    "\n",
    "# Save the fine-tuned model\n",
    "torch.save(model.state_dict(), 'fine_tuned_model.pth')\n"
   ]
  },
  {
   "cell_type": "markdown",
   "id": "90160903",
   "metadata": {},
   "source": [
    "# ----------------------------------------------------------------------------------------------------------"
   ]
  },
  {
   "cell_type": "markdown",
   "id": "c609acb8",
   "metadata": {},
   "source": [
    "## loading the weights to segmentation mask"
   ]
  },
  {
   "cell_type": "code",
   "execution_count": 14,
   "id": "a6a34e15",
   "metadata": {},
   "outputs": [
    {
     "name": "stdout",
     "output_type": "stream",
     "text": [
      "Number of parameters:  42009728\n"
     ]
    }
   ],
   "source": [
    "import torch\n",
    "import torchvision.models as models\n",
    "from torchvision.models import segmentation\n",
    "\n",
    "# Create an instance of the DeepLabv3 model\n",
    "model = segmentation.deeplabv3_resnet50(pretrained=True)\n",
    "model.classifier[-1] = torch.nn.Conv2d(256, 43, kernel_size=1)  # Replace 'num_classes' with your desired number of classes\n",
    "\n",
    "# Load the saved checkpoint\n",
    "checkpoint_path = 'fine_model_ep8_BS_4.pth'  # Replace with the actual path to your saved checkpoint file\n",
    "\n",
    "model.load_state_dict(torch.load(checkpoint_path))\n",
    "\n",
    "\n",
    "\n",
    "# Optionally, load other items from the checkpoint if needed\n",
    "# For example, you can load the optimizer state_dict, scheduler state_dict, etc.\n",
    "\n",
    "# Set the model to evaluation mode\n",
    "model.eval()\n",
    "num_params = sum(p.numel() for p in model.parameters())\n",
    "\n",
    "print(\"Number of parameters: \", num_params)\n",
    "\n",
    "\n",
    "# Now you can use the loaded model for inference or further training\n"
   ]
  },
  {
   "cell_type": "markdown",
   "id": "8b11481e",
   "metadata": {},
   "source": [
    "## feed the seen images to the segmentation mask"
   ]
  },
  {
   "cell_type": "code",
   "execution_count": null,
   "id": "bc911df8",
   "metadata": {},
   "outputs": [],
   "source": []
  },
  {
   "cell_type": "code",
   "execution_count": null,
   "id": "52d37aaf",
   "metadata": {},
   "outputs": [],
   "source": []
  },
  {
   "cell_type": "markdown",
   "id": "5372898d",
   "metadata": {},
   "source": [
    "## teach the student from the teacher's predictions"
   ]
  },
  {
   "cell_type": "code",
   "execution_count": 15,
   "id": "ff4f0b33",
   "metadata": {},
   "outputs": [],
   "source": [
    "import torch\n",
    "import torch.nn as nn\n",
    "import torch.nn.functional as F\n",
    "\n",
    "\n",
    "class double_conv(nn.Module):\n",
    "    '''(conv => BN => ReLU) * 2'''\n",
    "    def __init__(self, in_ch, out_ch):\n",
    "        super(double_conv, self).__init__()\n",
    "        self.conv = nn.Sequential(\n",
    "            nn.Conv2d(in_ch, out_ch, 3, padding=1),\n",
    "            nn.BatchNorm2d(out_ch),\n",
    "            nn.ReLU(inplace=True),\n",
    "            nn.Conv2d(out_ch, out_ch, 3, padding=1),\n",
    "            nn.BatchNorm2d(out_ch),\n",
    "            nn.ReLU(inplace=True)\n",
    "        )\n",
    "\n",
    "    def forward(self, x):\n",
    "        x = self.conv(x)\n",
    "        return x\n",
    "\n",
    "\n",
    "class inconv(nn.Module):\n",
    "    def __init__(self, in_ch, out_ch):\n",
    "        super(inconv, self).__init__()\n",
    "        self.conv = double_conv(in_ch, out_ch)\n",
    "\n",
    "    def forward(self, x):\n",
    "        x = self.conv(x)\n",
    "        return x\n",
    "\n",
    "\n",
    "class down(nn.Module):\n",
    "    def __init__(self, in_ch, out_ch):\n",
    "        super(down, self).__init__()\n",
    "        self.mpconv = nn.Sequential(\n",
    "            nn.MaxPool2d(2),\n",
    "            double_conv(in_ch, out_ch)\n",
    "        )\n",
    "\n",
    "        '''self.mp = nn.MaxPool2d(2)\n",
    "        self.dc = double_conv(in_ch, out_ch)'''\n",
    "\n",
    "    def forward(self, x):\n",
    "        x = self.mpconv(x)\n",
    "        return x\n",
    "\n",
    "\n",
    "class up(nn.Module):\n",
    "    def __init__(self, in_ch, out_ch, bilinear=True):\n",
    "        super(up, self).__init__()\n",
    "\n",
    "        #  would be a nice idea if the upsampling could be learned too,\n",
    "        #  but my machine do not have enough memory to handle all those weights\n",
    "        if bilinear:\n",
    "            self.up = nn.Upsample(scale_factor=2, mode='bilinear', align_corners=True)\n",
    "        else:\n",
    "            self.up = nn.ConvTranspose2d(in_ch//2, in_ch//2, 2, stride=2)\n",
    "\n",
    "        self.conv = double_conv(in_ch, out_ch)\n",
    "\n",
    "    def forward(self, x1, x2):\n",
    "        x1 = self.up(x1)\n",
    "        \n",
    "        # input is CHW\n",
    "        diffY = x2.size()[2] - x1.size()[2]\n",
    "        diffX = x2.size()[3] - x1.size()[3]\n",
    "\n",
    "        x1 = F.pad(x1, (diffX // 2, diffX - diffX//2,\n",
    "                        diffY // 2, diffY - diffY//2))\n",
    "        \n",
    "        # for padding issues, see \n",
    "        # https://github.com/HaiyongJiang/U-Net-Pytorch-Unstructured-Buggy/commit/0e854509c2cea854e247a9c615f175f76fbb2e3a\n",
    "        # https://github.com/xiaopeng-liao/Pytorch-UNet/commit/8ebac70e633bac59fc22bb5195e513d5832fb3bd\n",
    "\n",
    "        x = torch.cat([x2, x1], dim=1)\n",
    "        x = self.conv(x)\n",
    "        return x\n",
    "\n",
    "\n",
    "class outconv(nn.Module):\n",
    "    def __init__(self, in_ch, out_ch):\n",
    "        super(outconv, self).__init__()\n",
    "        self.conv = nn.Conv2d(in_ch, out_ch, 1)\n",
    "\n",
    "    def forward(self, x):\n",
    "        x = self.conv(x)\n",
    "        return x"
   ]
  },
  {
   "cell_type": "code",
   "execution_count": 19,
   "id": "5568c3fe",
   "metadata": {},
   "outputs": [],
   "source": [
    "import torch.nn.functional as F\n",
    "\n",
    "\n",
    "\n",
    "class UNet(nn.Module):\n",
    "    def __init__(self, channel_depth, n_channels, n_classes):\n",
    "        super(UNet, self).__init__()\n",
    "        self.inc = inconv(n_channels, channel_depth)\n",
    "        self.down1 = down(channel_depth, channel_depth*2)\n",
    "        self.down2 = down(channel_depth*2, channel_depth*4)\n",
    "        self.down3 = down(channel_depth*4, channel_depth*8)\n",
    "        self.down4 = down(channel_depth*8, channel_depth*8)\n",
    "        self.up1 = up(channel_depth*16, channel_depth*4)\n",
    "        self.up2 = up(channel_depth*8, channel_depth*2)\n",
    "        self.up3 = up(channel_depth*4, channel_depth)\n",
    "        self.up4 = up(channel_depth*2, channel_depth)\n",
    "        self.outc = outconv(channel_depth, n_classes)\n",
    "\n",
    "    def forward(self, x):\n",
    "        x1 = self.inc(x)\n",
    "        x2 = self.down1(x1)\n",
    "        x3 = self.down2(x2)\n",
    "        x4 = self.down3(x3)\n",
    "        x5 = self.down4(x4)\n",
    "        x = self.up1(x5, x4)\n",
    "        x = self.up2(x, x3)\n",
    "        x = self.up3(x, x2)\n",
    "        x = self.up4(x, x1)\n",
    "        x = self.outc(x)\n",
    "        return x\n",
    "        #return x\n",
    "\n",
    "class UNet16(nn.Module):\n",
    "    def __init__(self, n_channels, n_classes):\n",
    "        super(UNet, self).__init__()\n",
    "        self.inc = inconv(n_channels, 16)\n",
    "        self.down1 = down(16, 32)\n",
    "        self.down2 = down(32, 64)\n",
    "        self.down3 = down(64, 128)\n",
    "        self.down4 = down(128, 128)\n",
    "        self.up1 = up(256, 128)\n",
    "        self.up2 = up(128, 64)\n",
    "        self.up3 = up(64, 32)\n",
    "        self.up4 = up(32, 16)\n",
    "        self.outc = outconv(16, n_classes)\n",
    "\n",
    "    def forward(self, x):\n",
    "        x1 = self.inc(x)\n",
    "        x2 = self.down1(x1)\n",
    "        x3 = self.down2(x2)\n",
    "        x4 = self.down3(x3)\n",
    "        x5 = self.down4(x4)\n",
    "        x = self.up1(x5, x4)\n",
    "        x = self.up2(x, x3)\n",
    "        x = self.up3(x, x2)\n",
    "        x = self.up4(x, x1)\n",
    "        x = self.outc(x)\n",
    "        return F.sigmoid(x)\n",
    "        #return x\n"
   ]
  },
  {
   "cell_type": "code",
   "execution_count": 27,
   "id": "22cdda23",
   "metadata": {},
   "outputs": [
    {
     "name": "stdout",
     "output_type": "stream",
     "text": [
      "Number of parameters:  840491\n"
     ]
    }
   ],
   "source": [
    "student = UNet(channel_depth = 16, n_channels = 3, n_classes = 43)\n",
    "\n",
    "num_params = sum(p.numel() for p in student.parameters())\n",
    "\n",
    "print(\"Number of parameters: \", num_params)"
   ]
  },
  {
   "cell_type": "markdown",
   "id": "91a7fc14",
   "metadata": {},
   "source": [
    "##  Dataset for the teacher"
   ]
  },
  {
   "cell_type": "code",
   "execution_count": 30,
   "id": "6c7fba7e",
   "metadata": {},
   "outputs": [],
   "source": [
    "import torch\n",
    "import torchvision.transforms as transforms\n",
    "from PIL import Image\n",
    "from torchvision.models import segmentation\n",
    "from torch.utils.data import Dataset, DataLoader\n",
    "import pandas as pd\n",
    "import os\n",
    "import tifffile as tiff\n",
    "import cv2\n",
    "\n",
    "\n",
    "#dataloader for the teacher\n",
    "\n",
    "class Train_Dataset(Dataset):\n",
    "    def __init__(self, csv_file, image_folder, target_folder,transform_image=None,transform_target=None):\n",
    "        \n",
    "        self.data = pd.read_csv(csv_file)\n",
    "        \n",
    "        \n",
    "        #the scene input images and the target segmentation maps both have the same name but in different folder\n",
    "        \n",
    "        \n",
    "        \n",
    "        self.image_paths = self.data['file']\n",
    "        self.image_folder = image_folder\n",
    "        self.target_folder = target_folder\n",
    "        \n",
    "        \n",
    "        self.transform = transform\n",
    "        self.transform_target = transform_target\n",
    "\n",
    "    def __getitem__(self, index):\n",
    "  \n",
    "\n",
    "        \n",
    "        # Construct the complete image path by joining the folder path and image name\n",
    "        image_name = self.image_paths[index] \n",
    "        image_path = os.path.join(self.image_folder, image_name)\n",
    "\n",
    "        \n",
    "        # Open the image using PIL\n",
    "        image = tiff.imread(image_path)\n",
    "        #choos ethe number of channels you need\n",
    "        image= image[:,:,:3]\n",
    "\n",
    "        image = image.astype('uint8')\n",
    "        \n",
    "        #\n",
    "        \n",
    "        target_path = os.path.join(self.target_folder, image_name)\n",
    "        target = tiff.imread(target_path)\n",
    "        target = np.transpose(target, (1,2,0))\n",
    "\n",
    "\n",
    "\n",
    "\n",
    "\n",
    "        target = cv2.resize(target, dsize=(512, 512), interpolation=cv2.INTER_CUBIC)\n",
    "\n",
    "        #target = target.astype('uint8')\n",
    "        \n",
    "        ## turning the ground truth segmenation mask into a (L,W,CLASSES) one hot-hot encoded matrix\n",
    "        #target = Image.fromarray(target)\n",
    "        #target = target.resize((512,512))\n",
    "        \n",
    "        \n",
    "        \n",
    "\n",
    "        if self.transform:\n",
    "            \n",
    "            image = self.transform(image)\n",
    "            target = self.transform_target(target)\n",
    "            \n",
    "            \n",
    "            \n",
    "\n",
    "        return image, target\n",
    "\n",
    "    def __len__(self):\n",
    "        return len(self.image_paths)\n",
    "    #-----------------------------------------------------------------------------------#\n",
    "\n",
    "\n",
    "    \n",
    "    \n",
    "    \n",
    "    \n",
    "    \n",
    "\n",
    "\n"
   ]
  },
  {
   "cell_type": "markdown",
   "id": "b96a489d",
   "metadata": {},
   "source": [
    "## initialize the models and the dataloader"
   ]
  },
  {
   "cell_type": "code",
   "execution_count": null,
   "id": "2f8a40d9",
   "metadata": {},
   "outputs": [],
   "source": [
    "# Define the paths to your training data\n",
    "\n",
    "\n",
    "# Set random seed for reproducibility\n",
    "torch.manual_seed(42)\n",
    "\n",
    "# Initialize the model and set it to training mode\n",
    "\n",
    "model = segmentation.deeplabv3_resnet50(pretrained=False)\n",
    "model.classifier[-1] = torch.nn.Conv2d(256, 43, kernel_size=1)\n",
    "model.train()\n",
    "model.to('cuda')\n",
    "\n",
    "# Set up the optimizer and loss function\n",
    "optimizer = torch.optim.Adam(model.parameters(), lr=0.001)\n",
    "criterion = torch.nn.CrossEntropyLoss()\n",
    "\n",
    "# Define the transformation for input images and labels\n",
    "transform = transforms.Compose([\n",
    "    transforms.ToPILImage(),\n",
    "    \n",
    "    transforms.Resize((512,512)),\n",
    "    transforms.ToTensor(),\n",
    "    transforms.Normalize(mean=[0.485, 0.456, 0.406], std=[0.229, 0.224, 0.225])\n",
    "    \n",
    "])\n",
    "\n",
    "#transforms.ToPILImage(),\n",
    "#transform_target =transforms.Compose([transforms.Resize((512, 512)),\n",
    "#                                         transforms.ToTensor()])\n",
    "\n",
    "transform_target = transforms.ToTensor()\n",
    "\n",
    "#---------------------------------------------------------------------------------------------------#\n",
    "\n",
    "csv_file =  'infos.csv'\n",
    "image_folder = '/home/ahmedemam576/working_folder/data/anthroprotect/tiles/s2'\n",
    "target_folder='/home/ahmedemam576/greybox/corine_images/onehotcoded_masks/'\n",
    "    \n",
    "# Create the custom dataset\n",
    "dataset = Train_Dataset(csv_file, image_folder, target_folder,transform_image=transform, transform_target =transform_target)\n",
    "\n",
    "# Create the data loader\n",
    "dataloader = DataLoader(dataset, batch_size=2, shuffle=True)\n",
    "\n",
    "\n",
    "                #############################################################################\n",
    "    "
   ]
  },
  {
   "cell_type": "markdown",
   "id": "882a6694",
   "metadata": {},
   "source": [
    "## loss functions "
   ]
  },
  {
   "cell_type": "code",
   "execution_count": 2,
   "id": "e19e9db0",
   "metadata": {},
   "outputs": [],
   "source": [
    "import torch\n",
    "import torch.nn.functional as F\n",
    "\n",
    "#NOTE: all verifications for the size is left\n",
    "\n",
    "T = 5\n",
    "alpha = 0.9\n",
    "\n",
    "\n",
    "def dice_loss(output, gt, smooth = 1):\n",
    "    output = output.clamp(min = 0, max = 1)\n",
    "    intersection = torch.sum(gt*output)\n",
    "    union = torch.sum(gt) + torch.sum(output)\n",
    "    dice = 1 -((2*intersection+smooth) / (union + smooth))\n",
    "    return dice\n",
    "\n",
    "def general_loss(student_output, gt):\n",
    "    #use torch.nn.CrossENtropyLoss()\n",
    "    loss = dice_loss(student_output, gt)\n",
    "    return loss\n",
    "\n",
    "def pixel_wise_loss(student_output, teacher_output):\n",
    "    N,C,W,H = student_output.shape\n",
    "\n",
    "    #what would happen if we use softmax?\n",
    "    pred_T = torch.sigmoid(teacher_output/T)\n",
    "    pred_S = torch.sigmoid(student_output/T).log()\n",
    "\n",
    "    #criterion = torch.nn.KLDivLoss(reduction = 'batchmean')\n",
    "    #KLDloss = - criterion(pred_S, pred_T)\n",
    "    #TODO: map this to KLDL\n",
    "    #KDloss = - sum(p * log (p/q)) ---> refer notes page 15 - 16 \n",
    "    #Pixelwise loss = sum(-p*logq)\n",
    "    #KLDiv = relative entropy\n",
    "    pixelwise_loss = (- pred_T * pred_S)\n",
    "\n",
    "    return  torch.sum(pixelwise_loss) / (W*H)\n",
    "\n",
    "def loss_fn_kd(student_output, teacher_output, gt ):\n",
    "    '''student_output = student_output.round() \n",
    "    student_output[student_output<0] = 0\n",
    "    gt = torch.clamp(gt, min = 0, max = 1)\n",
    "    teacher_output = torch.clamp(teacher_output, min = 0, max = 1)'''\n",
    "\n",
    "    student_output = student_output.clamp(min = 0, max = 1)\n",
    "    teacher_output = teacher_output.clamp(min = 0, max = 1)\n",
    "\n",
    "\n",
    "    student_loss = general_loss(student_output, gt)\n",
    "    kd_loss = pixel_wise_loss(student_output, teacher_output)\n",
    "    #not sure about using T, also check KLD\n",
    "    loss = (student_loss*(1-alpha) + (kd_loss)*(alpha)) # as per structured KD paper\n",
    "    return loss    \n",
    "    \n",
    "    "
   ]
  },
  {
   "cell_type": "markdown",
   "id": "c8e256a9",
   "metadata": {},
   "source": [
    "## fetch the teacher predictions and training loop for the stedent"
   ]
  },
  {
   "cell_type": "code",
   "execution_count": null,
   "id": "7917ebdc",
   "metadata": {},
   "outputs": [],
   "source": [
    "def fetch_teacher_outputs(teacher, train_loader):\n",
    "    print('-------Fetch teacher outputs-------')\n",
    "    teacher.eval().cuda() #no stochasticity heremashy \n",
    "    #list of tensors\n",
    "    teacher_outputs = []\n",
    "    with torch.no_grad():\n",
    "        #trainloader gets bs images at a time. why does enumerate(tl) run for all images?\n",
    "        for i, img in enumerate(train_loader):\n",
    "            print(i, 'i')\n",
    "            '''img = img[0, :, :, :, :]\n",
    "            gt = gt[0, :, :, :, :]'''\n",
    "            if torch.cuda.is_available():\n",
    "                img = img.cuda()\n",
    "            output = teacher(img)\n",
    "            teacher_outputs.append(output)\n",
    "    return teacher_outputs\n",
    "\n",
    "                 #############################################################################\n",
    "\n",
    "\n",
    "\n",
    "def train_student(student, teacher_outputs, optimizer, train_loader):\n",
    "    print('-------Train student-------')\n",
    "    #called once for each epoch\n",
    "    student.train().cuda()\n",
    "\n",
    "    summ = []\n",
    "    for i, (img, gt) in enumerate(train_loader):\n",
    "        teacher_output = teacher_outputs[i]\n",
    "        if torch.cuda.is_available():\n",
    "            img, gt = img.cuda(), gt.cuda()\n",
    "            teacher_output = teacher_output.cuda()\n",
    "\n",
    "        img, gt = Variable(img), Variable(gt)\n",
    "        teacher_output =  Variable(teacher_output)\n",
    "\n",
    "        output = student(img)\n",
    "\n",
    "        #TODO: loss is wrong\n",
    "        loss = loss_fn_kd(output, teacher_output, gt)    \n",
    "\n",
    "        # clear previous gradients, compute gradients of all variables wrt loss\n",
    "        optimizer.zero_grad()\n",
    "        loss.backward()\n",
    "\n",
    "        # performs updates using calculated gradients\n",
    "        optimizer.step()\n",
    "        if i % summary_steps == 0:\n",
    "            #do i need to move it to CPU?\n",
    "            output = output.detach().cpu()\n",
    "            gt = gt.detach().cpu()\n",
    "            metric = dice_loss(output, gt)\n",
    "            summary = {'metric' : metric.item(), 'loss' : loss.item()}\n",
    "            summ.append(summary)\n",
    "    \n",
    "    #print('Average loss over this epoch: ' + np.mean(loss_avg))\n",
    "    mean_dice_coeff =  np.mean([x['metric'] for x in summ])\n",
    "    mean_loss = np.mean([x['loss'] for x in summ])\n",
    "    print('- Train metrics:\\n' + '\\tMetric:{}\\n\\tLoss:{}'.format(mean_dice_coeff, mean_loss))\n",
    "    #print accuracy and los"
   ]
  },
  {
   "cell_type": "markdown",
   "id": "b0646cf0",
   "metadata": {},
   "source": [
    "## evaluate the student on the evaluation dataset"
   ]
  },
  {
   "cell_type": "code",
   "execution_count": null,
   "id": "acd10424",
   "metadata": {},
   "outputs": [],
   "source": [
    "def evaluate_kd(student, val_loader):\n",
    "    print('-------Evaluate student-------')\n",
    "    student.eval().cuda()\n",
    "\n",
    "    #criterion = torch.nn.BCEWithLogitsLoss()\n",
    "    loss_summ = []\n",
    "    with torch.no_grad():\n",
    "        for i, (img, gt) in enumerate(val_loader):\n",
    "            if torch.cuda.is_available():\n",
    "                img, gt = img.cuda(), gt.cuda()\n",
    "            img, gt = Variable(img), Variable(gt)\n",
    "\n",
    "            output = student(img)\n",
    "            output = output.clamp(min = 0, max = 1)\n",
    "            loss = dice_loss(output, gt)\n",
    "\n",
    "            loss_summ.append(loss.item())\n",
    "\n",
    "    mean_loss = np.mean(loss_summ)\n",
    "    print('- Eval metrics:\\n\\tAverage Dice loss:{}'.format(mean_loss))\n",
    "    return mean_loss"
   ]
  },
  {
   "cell_type": "markdown",
   "id": "1680b831",
   "metadata": {},
   "source": [
    "## complete training loop"
   ]
  },
  {
   "cell_type": "code",
   "execution_count": null,
   "id": "25b70b79",
   "metadata": {},
   "outputs": [],
   "source": [
    "\n",
    "\n",
    "min_loss = 100\n",
    "\n",
    "teacher = UNet(channel_depth = 32, n_channels = 3, n_classes=1)\n",
    "student = UNet(channel_depth = 16, n_channels = 3, n_classes=1)\n",
    "\n",
    "optimizer = torch.optim.Adam(student.parameters(), lr=1e-3)\n",
    "scheduler = StepLR(optimizer, step_size = 100, gamma = 0.2)\n",
    "\n",
    "#load teacher and student model\n",
    "teacher.load_state_dict(torch.load(teacher_weights))\n",
    "#student.load_state_dict(torch.load(student_weights))\n",
    "\n",
    "#NV: add val folder\n",
    "train_list = glob.glob('/home/nirvi/Internship_2020/Carvana dataset/train/train1/*jpg')\n",
    "val_list = glob.glob('/home/nirvi/Internship_2020/Carvana dataset/val/val1/*jpg')\n",
    "\n",
    "tf = transforms.Compose([\n",
    "    transforms.ToTensor(),\n",
    "    transforms.Normalize((0.5, 0.5, 0.5), (0.5, 0.5, 0.5))\n",
    "])\n",
    "\n",
    "#2 tensors -> img_list and gt_list. for batch_size = 1 --> img: (1, 3, 320, 320); gt: (1, 1, 320, 320)\n",
    "train_loader = torch.utils.data.DataLoader(\n",
    "    dataset.listDataset(train_list,\n",
    "    shuffle = False,\n",
    "    transform = tf,\n",
    "    ),\n",
    "    batch_size = 1\n",
    ")\n",
    "\n",
    "\n",
    "val_loader = torch.utils.data.DataLoader(\n",
    "    dataset.listDataset(val_list,\n",
    "    shuffle = False,\n",
    "    transform = tf,\n",
    "    ),\n",
    "    batch_size = 1\n",
    ")\n",
    "\n",
    "#train_and_evaluate_kd:\n",
    "#get teacher outputs as list of tensors\n",
    "teacher_outputs = fetch_teacher_outputs(teacher, train_loader)\n",
    "print(len(teacher_outputs))\n",
    "for epoch in range(num_of_epochs):\n",
    "    #train the student\n",
    "    print(' --- student training: epoch {}'.format(epoch+1))\n",
    "    train_student(student, teacher_outputs, optimizer, train_loader)\n",
    "\n",
    "    #evaluate for one epoch on validation set\n",
    "    val = evaluate_kd(student, val_loader)\n",
    "    if(val < min_loss):\n",
    "        min_loss = val\n",
    "        #TODO: make min as the val loss of teacher\n",
    "        print('New best!!')\n",
    "\n",
    "\n",
    "    #if val_metric is best, add checkpoint\n",
    "\n",
    "    torch.save(student.state_dict(), 'checkpoints/0.9/16/CP{}.pth'.format(epoch+1))\n",
    "    print(\"Checkpoint {} saved!\".format(epoch+1))\n",
    "    scheduler.step()\n"
   ]
  },
  {
   "cell_type": "markdown",
   "id": "a703a5a3",
   "metadata": {},
   "source": [
    "## Function to produce a list of segmentation maps, each coming from a stochastic model"
   ]
  },
  {
   "cell_type": "code",
   "execution_count": 37,
   "id": "34ce2da3",
   "metadata": {},
   "outputs": [],
   "source": [
    "def mc_dropout(model, x, len_samples):\n",
    "    model.train()\n",
    "    model = model.to('cuda')\n",
    "    x = x.to('cuda')\n",
    "    \n",
    "    for i in range(len_samples):\n",
    "        output = model(x)\n",
    "        output = output['out']\n",
    "        print('output shape----->',output.shape)\n",
    "        \n",
    "        \n",
    "    return output\n",
    "        \n",
    "torch.cuda.empty_cache()\n",
    "\n"
   ]
  },
  {
   "cell_type": "code",
   "execution_count": 3,
   "id": "2da8f123",
   "metadata": {},
   "outputs": [
    {
     "data": {
      "text/plain": [
       "\"\\npretrained_model = model\\ninput_data = dataset\\n\\n\\nmodel = model.to('cuda')\""
      ]
     },
     "execution_count": 3,
     "metadata": {},
     "output_type": "execute_result"
    }
   ],
   "source": [
    "import torch\n",
    "import torchvision.transforms as transforms\n",
    "from PIL import Image\n",
    "from torchvision.models import segmentation\n",
    "from torch.utils.data import Dataset, DataLoader\n",
    "import pandas as pd\n",
    "import os\n",
    "import tifffile as tiff\n",
    "import cv2\n",
    "import pandas as pd\n",
    "import tifffile as tiff\n",
    "from tqdm import tqdm\n",
    "import numpy as np\n",
    "from PIL import Image\n",
    "import os\n",
    "import torch.nn as nn\n",
    "import torch.nn.functional as F\n",
    "\n",
    "\n",
    "class CustomDataset(Dataset):\n",
    "            def __init__(self, csv_file, image_folder, target_folder,transform_image=None):\n",
    "                \n",
    "                self.data = pd.read_csv(csv_file)\n",
    "                \n",
    "                \n",
    "                #the scene input images and the target segmentation maps both have the same name but in different folder\n",
    "                \n",
    "                \n",
    "                \n",
    "                self.image_paths = self.data['file']\n",
    "                #self.image_paths = self.image_paths[:10] for testing and debugging\n",
    "                self.image_folder = image_folder\n",
    "                self.target_folder = target_folder\n",
    "                \n",
    "                \n",
    "                self.transform = transform\n",
    " \n",
    "\n",
    "            def __getitem__(self, index):\n",
    "        \n",
    "\n",
    "                \n",
    "                # Construct the complete image path by joining the folder path and image name\n",
    "                image_name = self.image_paths[index] \n",
    "                image_path = os.path.join(self.image_folder, image_name)\n",
    "\n",
    "                \n",
    "                # Open the image using PIL\n",
    "                image = tiff.imread(image_path)\n",
    "                #choos ethe number of channels you need\n",
    "                image= image[:,:,:3]\n",
    "\n",
    "                image = image.astype('uint8')\n",
    "                \n",
    "                #\n",
    "                \n",
    "                target_path = os.path.join(self.target_folder, image_name)\n",
    "                target = tiff.imread(target_path)\n",
    "                target = np.transpose(target, (1,2,0))\n",
    "\n",
    "\n",
    "\n",
    "\n",
    "\n",
    "                target = cv2.resize(target, dsize=(512, 512), interpolation=cv2.INTER_CUBIC)\n",
    "\n",
    "                #target = target.astype('uint8')\n",
    "                \n",
    "                ## turning the ground truth segmenation mask into a (L,W,CLASSES) one hot-hot encoded matrix\n",
    "                #target = Image.fromarray(target)\n",
    "                #target = target.resize((512,512))\n",
    "                \n",
    "                \n",
    "                \n",
    "\n",
    "                if self.transform:\n",
    "                    \n",
    "                    image = self.transform(image)\n",
    "  \n",
    "                    \n",
    "                    \n",
    "                    \n",
    "\n",
    "                return image, target\n",
    "\n",
    "            def __len__(self):\n",
    "                return len(self.image_paths)\n",
    "\n",
    "'''\n",
    "model = segmentation.deeplabv3_resnet50(pretrained=True)\n",
    "model.classifier[-1] = torch.nn.Conv2d(256, 43, kernel_size=1)\n",
    "checkpoint_path = 'fine_model_ep8_BS_4.pth'  # Replace with the actual path to your saved checkpoint file\n",
    "\n",
    "model.load_state_dict(torch.load(checkpoint_path))'''\n",
    "\n",
    "\n",
    "\n",
    "csv_file =  'infos.csv'\n",
    "image_folder = '/home/ahmedemam576/working_folder/data/anthroprotect/tiles/s2'\n",
    "target_folder='/home/ahmedemam576/greybox/corine_images/onehotcoded_masks/'\n",
    "\n",
    "\n",
    "# Create the custom dataset\n",
    "from torch.utils.data import DataLoader, random_split\n",
    "\n",
    "\n",
    "dataset = CustomDataset(csv_file, image_folder, target_folder,transform_image=transform)\n",
    "\n",
    "\n",
    "train_size = int(0.9955 * len(dataset))\n",
    "test_size = len(dataset) - train_size\n",
    "train_dataset, test_dataset = random_split(dataset, [train_size, test_size])\n",
    "\n",
    "# Create data loaders for the training and test subsets\n",
    "num_samples = 3\n",
    "batch_size=10\n",
    "\n",
    "\n",
    "train_dataloader = DataLoader(train_dataset, batch_size=2, shuffle=True)\n",
    "test_dataloader = DataLoader(test_dataset, batch_size=batch_size , shuffle=False,drop_last=True)\n",
    "# Create the data loader\n",
    "dataloader = DataLoader(dataset, batch_size=batch_size , shuffle=True, drop_last=True)\n",
    "\n",
    "\n",
    "\n",
    "\n",
    "'''\n",
    "pretrained_model = model\n",
    "input_data = dataset\n",
    "\n",
    "\n",
    "model = model.to('cuda')'''"
   ]
  },
  {
   "cell_type": "markdown",
   "id": "fb562887",
   "metadata": {},
   "source": [
    "### run the model several times using MC droput, and store the results in a tensor of the shape (no.of batches, number of MCruns, channels(classes),width, hight )"
   ]
  },
  {
   "cell_type": "code",
   "execution_count": 2,
   "id": "f5f0169e",
   "metadata": {},
   "outputs": [
    {
     "ename": "NameError",
     "evalue": "name 'test_dataloader' is not defined",
     "output_type": "error",
     "traceback": [
      "\u001b[0;31m---------------------------------------------------------------------------\u001b[0m",
      "\u001b[0;31mNameError\u001b[0m                                 Traceback (most recent call last)",
      "\u001b[0;32m/tmp/ipykernel_10236/2780740822.py\u001b[0m in \u001b[0;36m<module>\u001b[0;34m\u001b[0m\n\u001b[1;32m     25\u001b[0m \u001b[0;34m\u001b[0m\u001b[0m\n\u001b[1;32m     26\u001b[0m \u001b[0mall_predictions\u001b[0m \u001b[0;34m=\u001b[0m \u001b[0;34m[\u001b[0m\u001b[0;34m]\u001b[0m\u001b[0;34m\u001b[0m\u001b[0;34m\u001b[0m\u001b[0m\n\u001b[0;32m---> 27\u001b[0;31m \u001b[0mprint\u001b[0m\u001b[0;34m(\u001b[0m\u001b[0mlen\u001b[0m\u001b[0;34m(\u001b[0m\u001b[0mtest_dataloader\u001b[0m\u001b[0;34m)\u001b[0m\u001b[0;34m)\u001b[0m\u001b[0;34m\u001b[0m\u001b[0;34m\u001b[0m\u001b[0m\n\u001b[0m\u001b[1;32m     28\u001b[0m \u001b[0;31m# Loop over the input data\u001b[0m\u001b[0;34m\u001b[0m\u001b[0;34m\u001b[0m\u001b[0m\n\u001b[1;32m     29\u001b[0m \u001b[0;32mfor\u001b[0m \u001b[0mimgs\u001b[0m \u001b[0;34m,\u001b[0m \u001b[0mtarget\u001b[0m \u001b[0;32min\u001b[0m \u001b[0mtqdm\u001b[0m\u001b[0;34m(\u001b[0m\u001b[0mtest_dataloader\u001b[0m\u001b[0;34m)\u001b[0m\u001b[0;34m:\u001b[0m\u001b[0;34m\u001b[0m\u001b[0;34m\u001b[0m\u001b[0m\n",
      "\u001b[0;31mNameError\u001b[0m: name 'test_dataloader' is not defined"
     ]
    }
   ],
   "source": [
    "# Define your Monte Carlo Dropout function\n",
    "\n",
    "def mc_dropout(model, x, num_samples):\n",
    "    torch.cuda.empty_cache()\n",
    "    with torch.no_grad():\n",
    "        model.train()\n",
    "        x = x.to('cuda')\n",
    "        #print(x.shape)\n",
    "        #outputs = torch.zeros((num_samples,) + x.shape[1:])\n",
    "        \n",
    "        preds = [(model(x)['out'].cpu().detach()) for i in range(num_samples)]\n",
    "        #pred = model(x)['out'].cpu().detach()\n",
    "        #print('model output is -->',model(x)['out'].size)\n",
    "        #preds.append(pred)\n",
    "        \n",
    "     \n",
    "    return preds\n",
    "\n",
    "\n",
    "\n",
    "# Create an empty tensor to store the outputs\n",
    "\n",
    "\n",
    "# Create an empty tensor with the desired shape\n",
    "\n",
    "all_predictions = []\n",
    "print(len(test_dataloader))\n",
    "# Loop over the input data\n",
    "for imgs , target in tqdm(test_dataloader):\n",
    "    batch_predictions = []\n",
    "    pred_sets = mc_dropout(pretrained_model, imgs, num_samples)\n",
    "    img_predictions = torch.stack(pred_sets, dim=1)\n",
    "    #batch_predictions.append(img_predictions)\n",
    "    #batch_predictions.append(pred_sets)\n",
    "\n",
    "    \n",
    "\n",
    "  \n",
    "  \n",
    "    \n",
    "    #batch_predictions = torch.stack(batch_predictions, dim=0)\n",
    "    \n",
    "    all_predictions.append(img_predictions)\n",
    "    \n",
    "\n",
    "    \n",
    "monte_carlo_predictions = torch.cat(all_predictions, dim=0)\n",
    "print('mc predcs--->',monte_carlo_predictions.shape)\n",
    "'''# Calculate uncertainty maps\n",
    "variance = torch.var(outputs, dim=1)  # Variance across the Monte Carlo samples\n",
    "uncertainty_maps = 1 - torch.max(F.softmax(variance, dim=1), dim=1)[0]  # Uncertainty maps\n",
    "\n",
    "# Print the shape of the uncertainty maps tensor\n",
    "print(uncertainty_maps.shape)'''"
   ]
  },
  {
   "cell_type": "code",
   "execution_count": 23,
   "id": "202c320c",
   "metadata": {},
   "outputs": [
    {
     "name": "stderr",
     "output_type": "stream",
     "text": [
      "/home/ahmedemam576/coding_streak_envionment/Anconda3/lib/python3.9/site-packages/torchvision/models/_utils.py:208: UserWarning: The parameter 'pretrained' is deprecated since 0.13 and may be removed in the future, please use 'weights' instead.\n",
      "  warnings.warn(\n",
      "/home/ahmedemam576/coding_streak_envionment/Anconda3/lib/python3.9/site-packages/torchvision/models/_utils.py:223: UserWarning: Arguments other than a weight enum or `None` for 'weights' are deprecated since 0.13 and may be removed in the future. The current behavior is equivalent to passing `weights=DeepLabV3_ResNet50_Weights.COCO_WITH_VOC_LABELS_V1`. You can also use `weights=DeepLabV3_ResNet50_Weights.DEFAULT` to get the most up-to-date weights.\n",
      "  warnings.warn(msg)\n"
     ]
    },
    {
     "name": "stdout",
     "output_type": "stream",
     "text": [
      "tensor([[[ 0,  0,  0,  ..., 19, 19, 19],\n",
      "         [ 0,  0,  0,  ..., 19, 19, 19],\n",
      "         [ 0,  0,  0,  ..., 19, 19, 19],\n",
      "         ...,\n",
      "         [ 0,  0,  0,  ...,  0,  0,  0],\n",
      "         [ 0,  0,  0,  ...,  0,  0,  0],\n",
      "         [ 0,  0,  0,  ...,  0,  0,  0]],\n",
      "\n",
      "        [[ 0,  0,  0,  ...,  0,  0,  0],\n",
      "         [ 0,  0,  0,  ...,  0,  0,  0],\n",
      "         [ 0,  0,  0,  ...,  0,  0,  0],\n",
      "         ...,\n",
      "         [ 0,  0,  0,  ...,  0,  0,  0],\n",
      "         [ 0,  0,  0,  ...,  0,  0,  0],\n",
      "         [ 0,  0,  0,  ...,  0,  0,  0]],\n",
      "\n",
      "        [[19, 19, 19,  ...,  0,  0,  0],\n",
      "         [19, 19, 19,  ...,  0,  0,  0],\n",
      "         [19, 19, 19,  ...,  0,  0,  0],\n",
      "         ...,\n",
      "         [ 0,  0,  0,  ...,  0,  0,  0],\n",
      "         [ 0,  0,  0,  ...,  0,  0,  0],\n",
      "         [ 0,  0,  0,  ...,  0,  0,  0]],\n",
      "\n",
      "        ...,\n",
      "\n",
      "        [[ 0,  0,  0,  ...,  0,  0,  0],\n",
      "         [ 0,  0,  0,  ...,  0,  0,  0],\n",
      "         [ 0,  0,  0,  ...,  0,  0,  0],\n",
      "         ...,\n",
      "         [ 0,  0,  0,  ...,  0,  0,  0],\n",
      "         [ 0,  0,  0,  ...,  0,  0,  0],\n",
      "         [ 0,  0,  0,  ...,  0,  0,  0]],\n",
      "\n",
      "        [[ 0,  0,  0,  ...,  0,  0,  0],\n",
      "         [ 0,  0,  0,  ...,  0,  0,  0],\n",
      "         [ 0,  0,  0,  ...,  0,  0,  0],\n",
      "         ...,\n",
      "         [ 0,  0,  0,  ...,  0,  0,  0],\n",
      "         [ 0,  0,  0,  ...,  0,  0,  0],\n",
      "         [ 0,  0,  0,  ...,  0,  0,  0]],\n",
      "\n",
      "        [[ 0,  0,  0,  ...,  0,  0,  0],\n",
      "         [ 0,  0,  0,  ...,  0,  0,  0],\n",
      "         [ 0,  0,  0,  ...,  0,  0,  0],\n",
      "         ...,\n",
      "         [ 0,  0,  0,  ...,  0,  0,  0],\n",
      "         [ 0,  0,  0,  ...,  0,  0,  0],\n",
      "         [ 0,  0,  0,  ...,  0,  0,  0]]], device='cuda:0')\n",
      "pred torch.Size([10, 512, 512])\n",
      "label torch.return_types.max(\n",
      "values=tensor([[19, 19, 19,  ..., 19, 19, 19],\n",
      "        [19, 19, 19,  ..., 19, 19, 19],\n",
      "        [19, 19, 19,  ..., 19, 19, 19],\n",
      "        ...,\n",
      "        [11, 11, 11,  ..., 11, 11, 11],\n",
      "        [11, 11, 11,  ..., 11, 11, 11],\n",
      "        [11, 11, 11,  ..., 11, 11, 11]], device='cuda:0'),\n",
      "indices=tensor([[2, 2, 2,  ..., 0, 0, 0],\n",
      "        [2, 2, 2,  ..., 0, 0, 0],\n",
      "        [2, 2, 2,  ..., 0, 0, 0],\n",
      "        ...,\n",
      "        [5, 5, 5,  ..., 4, 4, 4],\n",
      "        [5, 5, 5,  ..., 4, 4, 4],\n",
      "        [5, 5, 5,  ..., 4, 4, 4]], device='cuda:0'))\n"
     ]
    },
    {
     "ename": "TypeError",
     "evalue": "isnan(): argument 'input' (position 1) must be Tensor, not float",
     "output_type": "error",
     "traceback": [
      "\u001b[0;31m---------------------------------------------------------------------------\u001b[0m",
      "\u001b[0;31mTypeError\u001b[0m                                 Traceback (most recent call last)",
      "\u001b[0;32m/tmp/ipykernel_8008/1837325962.py\u001b[0m in \u001b[0;36m<module>\u001b[0;34m\u001b[0m\n\u001b[1;32m     65\u001b[0m         \u001b[0mpredicted_masks\u001b[0m \u001b[0;34m=\u001b[0m \u001b[0mpredicted_masks\u001b[0m\u001b[0;34m.\u001b[0m\u001b[0mto\u001b[0m\u001b[0;34m(\u001b[0m\u001b[0;34m'cuda'\u001b[0m\u001b[0;34m)\u001b[0m\u001b[0;34m\u001b[0m\u001b[0;34m\u001b[0m\u001b[0m\n\u001b[1;32m     66\u001b[0m         \u001b[0mtargets\u001b[0m \u001b[0;34m=\u001b[0m \u001b[0mtargets\u001b[0m\u001b[0;34m.\u001b[0m\u001b[0mto\u001b[0m\u001b[0;34m(\u001b[0m\u001b[0;34m'cuda'\u001b[0m\u001b[0;34m)\u001b[0m\u001b[0;34m\u001b[0m\u001b[0;34m\u001b[0m\u001b[0m\n\u001b[0;32m---> 67\u001b[0;31m         \u001b[0miou\u001b[0m \u001b[0;34m=\u001b[0m \u001b[0mmIOU\u001b[0m\u001b[0;34m(\u001b[0m\u001b[0mpredicted_masks\u001b[0m\u001b[0;34m,\u001b[0m \u001b[0mtargets\u001b[0m\u001b[0;34m)\u001b[0m\u001b[0;34m\u001b[0m\u001b[0;34m\u001b[0m\u001b[0m\n\u001b[0m\u001b[1;32m     68\u001b[0m         \u001b[0mdice\u001b[0m \u001b[0;34m=\u001b[0m \u001b[0mcalculate_dice\u001b[0m\u001b[0;34m(\u001b[0m\u001b[0mpredicted_masks\u001b[0m\u001b[0;34m,\u001b[0m \u001b[0mtargets\u001b[0m\u001b[0;34m)\u001b[0m\u001b[0;34m\u001b[0m\u001b[0;34m\u001b[0m\u001b[0m\n\u001b[1;32m     69\u001b[0m \u001b[0;34m\u001b[0m\u001b[0m\n",
      "\u001b[0;32m/tmp/ipykernel_8008/1837325962.py\u001b[0m in \u001b[0;36mmIOU\u001b[0;34m(pred, label, num_classes)\u001b[0m\n\u001b[1;32m     24\u001b[0m         \u001b[0miou_list\u001b[0m\u001b[0;34m.\u001b[0m\u001b[0mappend\u001b[0m\u001b[0;34m(\u001b[0m\u001b[0miou_now\u001b[0m\u001b[0;34m)\u001b[0m\u001b[0;34m\u001b[0m\u001b[0;34m\u001b[0m\u001b[0m\n\u001b[1;32m     25\u001b[0m \u001b[0;34m\u001b[0m\u001b[0m\n\u001b[0;32m---> 26\u001b[0;31m     \u001b[0mpresent_iou_list\u001b[0m \u001b[0;34m=\u001b[0m \u001b[0;34m[\u001b[0m\u001b[0miou\u001b[0m \u001b[0;32mfor\u001b[0m \u001b[0miou\u001b[0m \u001b[0;32min\u001b[0m \u001b[0miou_list\u001b[0m \u001b[0;32mif\u001b[0m \u001b[0;32mnot\u001b[0m \u001b[0mtorch\u001b[0m\u001b[0;34m.\u001b[0m\u001b[0misnan\u001b[0m\u001b[0;34m(\u001b[0m\u001b[0miou\u001b[0m\u001b[0;34m)\u001b[0m\u001b[0;34m]\u001b[0m\u001b[0;34m\u001b[0m\u001b[0;34m\u001b[0m\u001b[0m\n\u001b[0m\u001b[1;32m     27\u001b[0m \u001b[0;34m\u001b[0m\u001b[0m\n\u001b[1;32m     28\u001b[0m     \u001b[0;32mreturn\u001b[0m \u001b[0msum\u001b[0m\u001b[0;34m(\u001b[0m\u001b[0mpresent_iou_list\u001b[0m\u001b[0;34m)\u001b[0m \u001b[0;34m/\u001b[0m \u001b[0mlen\u001b[0m\u001b[0;34m(\u001b[0m\u001b[0mpresent_iou_list\u001b[0m\u001b[0;34m)\u001b[0m\u001b[0;34m\u001b[0m\u001b[0;34m\u001b[0m\u001b[0m\n",
      "\u001b[0;32m/tmp/ipykernel_8008/1837325962.py\u001b[0m in \u001b[0;36m<listcomp>\u001b[0;34m(.0)\u001b[0m\n\u001b[1;32m     24\u001b[0m         \u001b[0miou_list\u001b[0m\u001b[0;34m.\u001b[0m\u001b[0mappend\u001b[0m\u001b[0;34m(\u001b[0m\u001b[0miou_now\u001b[0m\u001b[0;34m)\u001b[0m\u001b[0;34m\u001b[0m\u001b[0;34m\u001b[0m\u001b[0m\n\u001b[1;32m     25\u001b[0m \u001b[0;34m\u001b[0m\u001b[0m\n\u001b[0;32m---> 26\u001b[0;31m     \u001b[0mpresent_iou_list\u001b[0m \u001b[0;34m=\u001b[0m \u001b[0;34m[\u001b[0m\u001b[0miou\u001b[0m \u001b[0;32mfor\u001b[0m \u001b[0miou\u001b[0m \u001b[0;32min\u001b[0m \u001b[0miou_list\u001b[0m \u001b[0;32mif\u001b[0m \u001b[0;32mnot\u001b[0m \u001b[0mtorch\u001b[0m\u001b[0;34m.\u001b[0m\u001b[0misnan\u001b[0m\u001b[0;34m(\u001b[0m\u001b[0miou\u001b[0m\u001b[0;34m)\u001b[0m\u001b[0;34m]\u001b[0m\u001b[0;34m\u001b[0m\u001b[0;34m\u001b[0m\u001b[0m\n\u001b[0m\u001b[1;32m     27\u001b[0m \u001b[0;34m\u001b[0m\u001b[0m\n\u001b[1;32m     28\u001b[0m     \u001b[0;32mreturn\u001b[0m \u001b[0msum\u001b[0m\u001b[0;34m(\u001b[0m\u001b[0mpresent_iou_list\u001b[0m\u001b[0;34m)\u001b[0m \u001b[0;34m/\u001b[0m \u001b[0mlen\u001b[0m\u001b[0;34m(\u001b[0m\u001b[0mpresent_iou_list\u001b[0m\u001b[0;34m)\u001b[0m\u001b[0;34m\u001b[0m\u001b[0;34m\u001b[0m\u001b[0m\n",
      "\u001b[0;31mTypeError\u001b[0m: isnan(): argument 'input' (position 1) must be Tensor, not float"
     ]
    }
   ],
   "source": [
    "import torch\n",
    "import torch.nn.functional as F\n",
    "\n",
    "def mIOU(pred, label, num_classes=43):\n",
    "    #pred = F.softmax(pred, dim=1)  # Convert raw logits to probabilities\n",
    "    pred = torch.argmax(pred, dim=1)\n",
    "    label = torch.argmax(label,dim=1)\n",
    "    print(label)\n",
    "    # Convert to class indices\n",
    "    print('pred',pred.shape)\n",
    "    print('label',torch.max(label, dim= 0))\n",
    "    iou_list = []\n",
    "    for sem_class in range(num_classes):\n",
    "        pred_inds = (pred == sem_class)\n",
    "        target_inds = (label == sem_class)\n",
    "\n",
    "        if target_inds.long().sum().item() == 0:\n",
    "            iou_now = float('nan')\n",
    "        else:\n",
    "            intersection_now = (pred_inds & target_inds).long().sum().item()\n",
    "            union_now = (pred_inds | target_inds).long().sum().item()\n",
    "            iou_now = float(intersection_now) / (float(union_now) + 1e-8)\n",
    "\n",
    "        iou_list.append(iou_now)\n",
    "\n",
    "    present_iou_list = [iou for iou in iou_list if not torch.isnan(iou)]\n",
    "\n",
    "    return sum(present_iou_list) / len(present_iou_list)\n",
    "\n",
    "def calculate_dice(y_pred, y_true):\n",
    "    intersection = torch.logical_and(y_pred, y_true).sum(dim=(1, 2, 3)).float()\n",
    "    dice = (2.0 * intersection) / (y_pred.sum(dim=(1, 2, 3)) + y_true.sum(dim=(1, 2, 3)) + 1e-8)\n",
    "    dice = dice.mean()\n",
    "    return dice.item()\n",
    "\n",
    "# Assuming you have loaded your model and validation dataset\n",
    "model = segmentation.deeplabv3_resnet50(pretrained=True)\n",
    "model.classifier[-1] = nn.Sequential(\n",
    "        nn.Conv2d(256, 43, kernel_size=1),\n",
    "        nn.Sigmoid() )\n",
    "model.to('cuda')\n",
    "checkpoint_path = '/home/ahmedemam576/greybox/corine_images/pretrained_CEandexternalSigmoid19.pth'  # Replace with the actual path to your saved checkpoint file\n",
    "model.load_state_dict(torch.load(checkpoint_path))\n",
    "\n",
    "\n",
    "########\n",
    "\n",
    "\n",
    "\n",
    "train_dataloader = DataLoader(train_dataset, batch_size=1, shuffle=True)\n",
    "val_dataloader = DataLoader(test_dataset, batch_size=batch_size , shuffle=False,drop_last=True)\n",
    "# DataLoader for the validation dataset\n",
    "\n",
    "model.eval()\n",
    "iou_scores = []\n",
    "dice_scores = []\n",
    "\n",
    "with torch.no_grad():\n",
    "    for images, targets in val_dataloader:\n",
    "        images, targets = images.cuda(), targets.cuda()\n",
    "        targets = targets.permute(0,3,1,2)\n",
    "        # Forward pass\n",
    "        outputs = model(images)\n",
    "        predicted_masks = outputs['out']  # Assuming you have a threshold for prediction\n",
    "        predicted_masks = predicted_masks.to('cuda')\n",
    "        targets = targets.to('cuda')\n",
    "        iou = mIOU(predicted_masks, targets)\n",
    "        dice = calculate_dice(predicted_masks, targets)\n",
    "\n",
    "        iou_scores.append(iou)\n",
    "        dice_scores.append(dice)\n",
    "\n",
    "mean_iou = sum(iou_scores) / len(iou_scores)\n",
    "mean_dice = sum(dice_scores) / len(dice_scores)\n",
    "\n",
    "print(f\"Mean IoU: {mean_iou:.4f}\")\n",
    "print(f\"Mean Dice Score: {mean_dice:.4f}\")"
   ]
  },
  {
   "cell_type": "code",
   "execution_count": null,
   "id": "29f4b6c8",
   "metadata": {},
   "outputs": [],
   "source": [
    "def calculate_iou(pred, target, num_classes):\n",
    "    iou_sum = 0\n",
    "    for class_id in range(num_classes):\n",
    "        intersection = np.logical_and(target == class_id, pred == class_id)\n",
    "        union = np.logical_or(target == class_id, pred == class_id)\n",
    "        iou = np.sum(intersection) / np.sum(union)\n",
    "        iou_sum += iou\n",
    "    mean_iou = iou_sum / num_classes\n",
    "    return mean_iou\n"
   ]
  },
  {
   "cell_type": "code",
   "execution_count": null,
   "id": "9655ebd2",
   "metadata": {},
   "outputs": [
    {
     "name": "stderr",
     "output_type": "stream",
     "text": [
      "100%|█████████████████████████████████████| 11906/11906 [18:43<00:00, 10.60it/s]\n"
     ]
    }
   ],
   "source": [
    "num_classes = 43\n",
    "\n",
    "# Initialize an empty list to store the transformed labels\n",
    "y_class_encoded = []\n",
    "\n",
    "# For loop to iterate through the dataset and convert one-hot encoded labels to class encoded\n",
    "for image, one_hot_label in tqdm(train_dataloader):\n",
    "    one_hot_label = one_hot_label.permute(0, 3, 1, 2)\n",
    "    \n",
    "    # Find the class index by finding the position of 1 in the one-hot encoded label\n",
    "    class_index = torch.argmax(one_hot_label, dim=1)\n",
    "    #print(class_index.shape)\n",
    "    # Append the class index to the list of class encoded labels\n",
    "    y_class_encoded.append(class_index)\n",
    "    #print(len(y_class_encoded))\n",
    "# Convert the list of class indices into a tensor\n",
    "# The shape of the tensor will be: (num_images, height, width)\n",
    "stacked_tensor = torch.cat(y_class_encoded, dim=0)\n",
    "print(stacked_tensor.shape)\n",
    "# Save the stacked tensor to a file (e.g., a .pt or .pth file)\n",
    "torch.save(stacked_tensor, \"class_indexed_GT.pt\")"
   ]
  },
  {
   "cell_type": "markdown",
   "id": "41bbbea2-d063-4bcf-87b5-225f8101490a",
   "metadata": {},
   "source": [
    "### visulaize and evaluate trained models"
   ]
  },
  {
   "cell_type": "code",
   "execution_count": 1,
   "id": "24517726-901c-4e63-ad7a-8f8be5a38bcb",
   "metadata": {},
   "outputs": [],
   "source": [
    "# dataset and dataloaders\n",
    "import torch\n",
    "import torchvision.transforms as transforms\n",
    "from PIL import Image\n",
    "from torchvision.models import segmentation\n",
    "from torch.utils.data import Dataset, DataLoader, random_split\n",
    "import pandas as pd\n",
    "import os\n",
    "import tifffile as tiff\n",
    "import cv2\n",
    "import pandas as pd\n",
    "import tifffile as tiff\n",
    "from tqdm import tqdm\n",
    "import numpy as np\n",
    "from PIL import Image\n",
    "import os\n",
    "import torch.nn as nn\n",
    "import torch.nn.functional as F\n",
    "class CustomDataset(Dataset):\n",
    "    def __init__(self, csv_file, image_folder, target_folder,transform_image=None,transform_target=None):\n",
    "\n",
    "        self.data = pd.read_csv(csv_file)\n",
    "\n",
    "\n",
    "        #the scene input images and the target segmentation maps both have the same name but in different folder\n",
    "\n",
    "\n",
    "\n",
    "        self.image_paths = self.data['file']\n",
    "        self.image_paths = self.image_paths[:] #for testing and debugging\n",
    "        self.image_folder = image_folder\n",
    "        self.target_folder = target_folder\n",
    "\n",
    "\n",
    "        self.transform = transform\n",
    "        self.transform_target = transform_target\n",
    "\n",
    "    def __getitem__(self, index):\n",
    "\n",
    "\n",
    "\n",
    "        # Construct the complete image path by joining the folder path and image name\n",
    "        image_name = self.image_paths[index] \n",
    "        image_path = os.path.join(self.image_folder, image_name)\n",
    "\n",
    "\n",
    "        # Open the image using PIL\n",
    "        image = tiff.imread(image_path)\n",
    "        #choos ethe number of channels you need\n",
    "        image= image[:,:,:3]/10000\n",
    "\n",
    "\n",
    "        target_path = os.path.join(self.target_folder, image_name)\n",
    "        target = tiff.imread(target_path)\n",
    "\n",
    "\n",
    "\n",
    "\n",
    "\n",
    "\n",
    "        if self.transform:\n",
    "\n",
    "            image = self.transform(image)\n",
    "            target = self.transform_target(target)\n",
    "\n",
    "\n",
    "\n",
    "        return image, target\n",
    "\n",
    "    def __len__(self):\n",
    "        return len(self.image_paths)\n",
    "csv_file =  'infos.csv'\n",
    "image_folder = '/home/ahmedemam576/working_folder/data/anthroprotect/tiles/s2'\n",
    "target_folder='/home/ahmedemam576/greybox/corine_images/new_masks/'\n",
    "\n",
    "# Create the custom dataset\n",
    "transform = transforms.Compose([\n",
    "\n",
    "    transforms.ToTensor() \n",
    "])\n",
    "\n",
    "\n",
    "transform_target = transforms.ToTensor()\n",
    "dataset = CustomDataset(csv_file, image_folder, target_folder,transform_image=transform, transform_target =transform_target)\n",
    "batch_size = 40\n",
    "# Create the data loader\n",
    "\n",
    "train_ratio = 0.8\n",
    "test_ratio = 1 - train_ratio\n",
    "\n",
    "# Calculate the number of samples for each split\n",
    "train_size = int(train_ratio * len(dataset))\n",
    "test_size = len(dataset) - train_size\n",
    "\n",
    "# Perform the split\n",
    "train_dataset, test_dataset = random_split(dataset, [train_size, test_size])\n",
    "\n",
    "# Create data loaders for training and testing\n",
    "dataloader = DataLoader(train_dataset, batch_size=batch_size, shuffle=True, drop_last=True)\n",
    "test_dataloader = DataLoader(test_dataset, batch_size=batch_size, shuffle=False, drop_last= True)"
   ]
  },
  {
   "cell_type": "code",
   "execution_count": 3,
   "id": "6757d168-ba69-464d-9d39-bdd986d0114f",
   "metadata": {},
   "outputs": [
    {
     "data": {
      "text/plain": [
       "DeepLabV3(\n",
       "  (backbone): IntermediateLayerGetter(\n",
       "    (conv1): Conv2d(3, 64, kernel_size=(7, 7), stride=(2, 2), padding=(3, 3), bias=False)\n",
       "    (bn1): BatchNorm2d(64, eps=1e-05, momentum=0.1, affine=True, track_running_stats=True)\n",
       "    (relu): ReLU(inplace=True)\n",
       "    (maxpool): MaxPool2d(kernel_size=3, stride=2, padding=1, dilation=1, ceil_mode=False)\n",
       "    (layer1): Sequential(\n",
       "      (0): Bottleneck(\n",
       "        (conv1): Conv2d(64, 64, kernel_size=(1, 1), stride=(1, 1), bias=False)\n",
       "        (bn1): BatchNorm2d(64, eps=1e-05, momentum=0.1, affine=True, track_running_stats=True)\n",
       "        (conv2): Conv2d(64, 64, kernel_size=(3, 3), stride=(1, 1), padding=(1, 1), bias=False)\n",
       "        (bn2): BatchNorm2d(64, eps=1e-05, momentum=0.1, affine=True, track_running_stats=True)\n",
       "        (conv3): Conv2d(64, 256, kernel_size=(1, 1), stride=(1, 1), bias=False)\n",
       "        (bn3): BatchNorm2d(256, eps=1e-05, momentum=0.1, affine=True, track_running_stats=True)\n",
       "        (relu): ReLU(inplace=True)\n",
       "        (downsample): Sequential(\n",
       "          (0): Conv2d(64, 256, kernel_size=(1, 1), stride=(1, 1), bias=False)\n",
       "          (1): BatchNorm2d(256, eps=1e-05, momentum=0.1, affine=True, track_running_stats=True)\n",
       "        )\n",
       "      )\n",
       "      (1): Bottleneck(\n",
       "        (conv1): Conv2d(256, 64, kernel_size=(1, 1), stride=(1, 1), bias=False)\n",
       "        (bn1): BatchNorm2d(64, eps=1e-05, momentum=0.1, affine=True, track_running_stats=True)\n",
       "        (conv2): Conv2d(64, 64, kernel_size=(3, 3), stride=(1, 1), padding=(1, 1), bias=False)\n",
       "        (bn2): BatchNorm2d(64, eps=1e-05, momentum=0.1, affine=True, track_running_stats=True)\n",
       "        (conv3): Conv2d(64, 256, kernel_size=(1, 1), stride=(1, 1), bias=False)\n",
       "        (bn3): BatchNorm2d(256, eps=1e-05, momentum=0.1, affine=True, track_running_stats=True)\n",
       "        (relu): ReLU(inplace=True)\n",
       "      )\n",
       "      (2): Bottleneck(\n",
       "        (conv1): Conv2d(256, 64, kernel_size=(1, 1), stride=(1, 1), bias=False)\n",
       "        (bn1): BatchNorm2d(64, eps=1e-05, momentum=0.1, affine=True, track_running_stats=True)\n",
       "        (conv2): Conv2d(64, 64, kernel_size=(3, 3), stride=(1, 1), padding=(1, 1), bias=False)\n",
       "        (bn2): BatchNorm2d(64, eps=1e-05, momentum=0.1, affine=True, track_running_stats=True)\n",
       "        (conv3): Conv2d(64, 256, kernel_size=(1, 1), stride=(1, 1), bias=False)\n",
       "        (bn3): BatchNorm2d(256, eps=1e-05, momentum=0.1, affine=True, track_running_stats=True)\n",
       "        (relu): ReLU(inplace=True)\n",
       "      )\n",
       "    )\n",
       "    (layer2): Sequential(\n",
       "      (0): Bottleneck(\n",
       "        (conv1): Conv2d(256, 128, kernel_size=(1, 1), stride=(1, 1), bias=False)\n",
       "        (bn1): BatchNorm2d(128, eps=1e-05, momentum=0.1, affine=True, track_running_stats=True)\n",
       "        (conv2): Conv2d(128, 128, kernel_size=(3, 3), stride=(2, 2), padding=(1, 1), bias=False)\n",
       "        (bn2): BatchNorm2d(128, eps=1e-05, momentum=0.1, affine=True, track_running_stats=True)\n",
       "        (conv3): Conv2d(128, 512, kernel_size=(1, 1), stride=(1, 1), bias=False)\n",
       "        (bn3): BatchNorm2d(512, eps=1e-05, momentum=0.1, affine=True, track_running_stats=True)\n",
       "        (relu): ReLU(inplace=True)\n",
       "        (downsample): Sequential(\n",
       "          (0): Conv2d(256, 512, kernel_size=(1, 1), stride=(2, 2), bias=False)\n",
       "          (1): BatchNorm2d(512, eps=1e-05, momentum=0.1, affine=True, track_running_stats=True)\n",
       "        )\n",
       "      )\n",
       "      (1): Bottleneck(\n",
       "        (conv1): Conv2d(512, 128, kernel_size=(1, 1), stride=(1, 1), bias=False)\n",
       "        (bn1): BatchNorm2d(128, eps=1e-05, momentum=0.1, affine=True, track_running_stats=True)\n",
       "        (conv2): Conv2d(128, 128, kernel_size=(3, 3), stride=(1, 1), padding=(1, 1), bias=False)\n",
       "        (bn2): BatchNorm2d(128, eps=1e-05, momentum=0.1, affine=True, track_running_stats=True)\n",
       "        (conv3): Conv2d(128, 512, kernel_size=(1, 1), stride=(1, 1), bias=False)\n",
       "        (bn3): BatchNorm2d(512, eps=1e-05, momentum=0.1, affine=True, track_running_stats=True)\n",
       "        (relu): ReLU(inplace=True)\n",
       "      )\n",
       "      (2): Bottleneck(\n",
       "        (conv1): Conv2d(512, 128, kernel_size=(1, 1), stride=(1, 1), bias=False)\n",
       "        (bn1): BatchNorm2d(128, eps=1e-05, momentum=0.1, affine=True, track_running_stats=True)\n",
       "        (conv2): Conv2d(128, 128, kernel_size=(3, 3), stride=(1, 1), padding=(1, 1), bias=False)\n",
       "        (bn2): BatchNorm2d(128, eps=1e-05, momentum=0.1, affine=True, track_running_stats=True)\n",
       "        (conv3): Conv2d(128, 512, kernel_size=(1, 1), stride=(1, 1), bias=False)\n",
       "        (bn3): BatchNorm2d(512, eps=1e-05, momentum=0.1, affine=True, track_running_stats=True)\n",
       "        (relu): ReLU(inplace=True)\n",
       "      )\n",
       "      (3): Bottleneck(\n",
       "        (conv1): Conv2d(512, 128, kernel_size=(1, 1), stride=(1, 1), bias=False)\n",
       "        (bn1): BatchNorm2d(128, eps=1e-05, momentum=0.1, affine=True, track_running_stats=True)\n",
       "        (conv2): Conv2d(128, 128, kernel_size=(3, 3), stride=(1, 1), padding=(1, 1), bias=False)\n",
       "        (bn2): BatchNorm2d(128, eps=1e-05, momentum=0.1, affine=True, track_running_stats=True)\n",
       "        (conv3): Conv2d(128, 512, kernel_size=(1, 1), stride=(1, 1), bias=False)\n",
       "        (bn3): BatchNorm2d(512, eps=1e-05, momentum=0.1, affine=True, track_running_stats=True)\n",
       "        (relu): ReLU(inplace=True)\n",
       "      )\n",
       "    )\n",
       "    (layer3): Sequential(\n",
       "      (0): Bottleneck(\n",
       "        (conv1): Conv2d(512, 256, kernel_size=(1, 1), stride=(1, 1), bias=False)\n",
       "        (bn1): BatchNorm2d(256, eps=1e-05, momentum=0.1, affine=True, track_running_stats=True)\n",
       "        (conv2): Conv2d(256, 256, kernel_size=(3, 3), stride=(1, 1), padding=(1, 1), bias=False)\n",
       "        (bn2): BatchNorm2d(256, eps=1e-05, momentum=0.1, affine=True, track_running_stats=True)\n",
       "        (conv3): Conv2d(256, 1024, kernel_size=(1, 1), stride=(1, 1), bias=False)\n",
       "        (bn3): BatchNorm2d(1024, eps=1e-05, momentum=0.1, affine=True, track_running_stats=True)\n",
       "        (relu): ReLU(inplace=True)\n",
       "        (downsample): Sequential(\n",
       "          (0): Conv2d(512, 1024, kernel_size=(1, 1), stride=(1, 1), bias=False)\n",
       "          (1): BatchNorm2d(1024, eps=1e-05, momentum=0.1, affine=True, track_running_stats=True)\n",
       "        )\n",
       "      )\n",
       "      (1): Bottleneck(\n",
       "        (conv1): Conv2d(1024, 256, kernel_size=(1, 1), stride=(1, 1), bias=False)\n",
       "        (bn1): BatchNorm2d(256, eps=1e-05, momentum=0.1, affine=True, track_running_stats=True)\n",
       "        (conv2): Conv2d(256, 256, kernel_size=(3, 3), stride=(1, 1), padding=(2, 2), dilation=(2, 2), bias=False)\n",
       "        (bn2): BatchNorm2d(256, eps=1e-05, momentum=0.1, affine=True, track_running_stats=True)\n",
       "        (conv3): Conv2d(256, 1024, kernel_size=(1, 1), stride=(1, 1), bias=False)\n",
       "        (bn3): BatchNorm2d(1024, eps=1e-05, momentum=0.1, affine=True, track_running_stats=True)\n",
       "        (relu): ReLU(inplace=True)\n",
       "      )\n",
       "      (2): Bottleneck(\n",
       "        (conv1): Conv2d(1024, 256, kernel_size=(1, 1), stride=(1, 1), bias=False)\n",
       "        (bn1): BatchNorm2d(256, eps=1e-05, momentum=0.1, affine=True, track_running_stats=True)\n",
       "        (conv2): Conv2d(256, 256, kernel_size=(3, 3), stride=(1, 1), padding=(2, 2), dilation=(2, 2), bias=False)\n",
       "        (bn2): BatchNorm2d(256, eps=1e-05, momentum=0.1, affine=True, track_running_stats=True)\n",
       "        (conv3): Conv2d(256, 1024, kernel_size=(1, 1), stride=(1, 1), bias=False)\n",
       "        (bn3): BatchNorm2d(1024, eps=1e-05, momentum=0.1, affine=True, track_running_stats=True)\n",
       "        (relu): ReLU(inplace=True)\n",
       "      )\n",
       "      (3): Bottleneck(\n",
       "        (conv1): Conv2d(1024, 256, kernel_size=(1, 1), stride=(1, 1), bias=False)\n",
       "        (bn1): BatchNorm2d(256, eps=1e-05, momentum=0.1, affine=True, track_running_stats=True)\n",
       "        (conv2): Conv2d(256, 256, kernel_size=(3, 3), stride=(1, 1), padding=(2, 2), dilation=(2, 2), bias=False)\n",
       "        (bn2): BatchNorm2d(256, eps=1e-05, momentum=0.1, affine=True, track_running_stats=True)\n",
       "        (conv3): Conv2d(256, 1024, kernel_size=(1, 1), stride=(1, 1), bias=False)\n",
       "        (bn3): BatchNorm2d(1024, eps=1e-05, momentum=0.1, affine=True, track_running_stats=True)\n",
       "        (relu): ReLU(inplace=True)\n",
       "      )\n",
       "      (4): Bottleneck(\n",
       "        (conv1): Conv2d(1024, 256, kernel_size=(1, 1), stride=(1, 1), bias=False)\n",
       "        (bn1): BatchNorm2d(256, eps=1e-05, momentum=0.1, affine=True, track_running_stats=True)\n",
       "        (conv2): Conv2d(256, 256, kernel_size=(3, 3), stride=(1, 1), padding=(2, 2), dilation=(2, 2), bias=False)\n",
       "        (bn2): BatchNorm2d(256, eps=1e-05, momentum=0.1, affine=True, track_running_stats=True)\n",
       "        (conv3): Conv2d(256, 1024, kernel_size=(1, 1), stride=(1, 1), bias=False)\n",
       "        (bn3): BatchNorm2d(1024, eps=1e-05, momentum=0.1, affine=True, track_running_stats=True)\n",
       "        (relu): ReLU(inplace=True)\n",
       "      )\n",
       "      (5): Bottleneck(\n",
       "        (conv1): Conv2d(1024, 256, kernel_size=(1, 1), stride=(1, 1), bias=False)\n",
       "        (bn1): BatchNorm2d(256, eps=1e-05, momentum=0.1, affine=True, track_running_stats=True)\n",
       "        (conv2): Conv2d(256, 256, kernel_size=(3, 3), stride=(1, 1), padding=(2, 2), dilation=(2, 2), bias=False)\n",
       "        (bn2): BatchNorm2d(256, eps=1e-05, momentum=0.1, affine=True, track_running_stats=True)\n",
       "        (conv3): Conv2d(256, 1024, kernel_size=(1, 1), stride=(1, 1), bias=False)\n",
       "        (bn3): BatchNorm2d(1024, eps=1e-05, momentum=0.1, affine=True, track_running_stats=True)\n",
       "        (relu): ReLU(inplace=True)\n",
       "      )\n",
       "    )\n",
       "    (layer4): Sequential(\n",
       "      (0): Bottleneck(\n",
       "        (conv1): Conv2d(1024, 512, kernel_size=(1, 1), stride=(1, 1), bias=False)\n",
       "        (bn1): BatchNorm2d(512, eps=1e-05, momentum=0.1, affine=True, track_running_stats=True)\n",
       "        (conv2): Conv2d(512, 512, kernel_size=(3, 3), stride=(1, 1), padding=(2, 2), dilation=(2, 2), bias=False)\n",
       "        (bn2): BatchNorm2d(512, eps=1e-05, momentum=0.1, affine=True, track_running_stats=True)\n",
       "        (conv3): Conv2d(512, 2048, kernel_size=(1, 1), stride=(1, 1), bias=False)\n",
       "        (bn3): BatchNorm2d(2048, eps=1e-05, momentum=0.1, affine=True, track_running_stats=True)\n",
       "        (relu): ReLU(inplace=True)\n",
       "        (downsample): Sequential(\n",
       "          (0): Conv2d(1024, 2048, kernel_size=(1, 1), stride=(1, 1), bias=False)\n",
       "          (1): BatchNorm2d(2048, eps=1e-05, momentum=0.1, affine=True, track_running_stats=True)\n",
       "        )\n",
       "      )\n",
       "      (1): Bottleneck(\n",
       "        (conv1): Conv2d(2048, 512, kernel_size=(1, 1), stride=(1, 1), bias=False)\n",
       "        (bn1): BatchNorm2d(512, eps=1e-05, momentum=0.1, affine=True, track_running_stats=True)\n",
       "        (conv2): Conv2d(512, 512, kernel_size=(3, 3), stride=(1, 1), padding=(4, 4), dilation=(4, 4), bias=False)\n",
       "        (bn2): BatchNorm2d(512, eps=1e-05, momentum=0.1, affine=True, track_running_stats=True)\n",
       "        (conv3): Conv2d(512, 2048, kernel_size=(1, 1), stride=(1, 1), bias=False)\n",
       "        (bn3): BatchNorm2d(2048, eps=1e-05, momentum=0.1, affine=True, track_running_stats=True)\n",
       "        (relu): ReLU(inplace=True)\n",
       "      )\n",
       "      (2): Bottleneck(\n",
       "        (conv1): Conv2d(2048, 512, kernel_size=(1, 1), stride=(1, 1), bias=False)\n",
       "        (bn1): BatchNorm2d(512, eps=1e-05, momentum=0.1, affine=True, track_running_stats=True)\n",
       "        (conv2): Conv2d(512, 512, kernel_size=(3, 3), stride=(1, 1), padding=(4, 4), dilation=(4, 4), bias=False)\n",
       "        (bn2): BatchNorm2d(512, eps=1e-05, momentum=0.1, affine=True, track_running_stats=True)\n",
       "        (conv3): Conv2d(512, 2048, kernel_size=(1, 1), stride=(1, 1), bias=False)\n",
       "        (bn3): BatchNorm2d(2048, eps=1e-05, momentum=0.1, affine=True, track_running_stats=True)\n",
       "        (relu): ReLU(inplace=True)\n",
       "      )\n",
       "    )\n",
       "  )\n",
       "  (classifier): DeepLabHead(\n",
       "    (0): ASPP(\n",
       "      (convs): ModuleList(\n",
       "        (0): Sequential(\n",
       "          (0): Conv2d(2048, 256, kernel_size=(1, 1), stride=(1, 1), bias=False)\n",
       "          (1): BatchNorm2d(256, eps=1e-05, momentum=0.1, affine=True, track_running_stats=True)\n",
       "          (2): ReLU()\n",
       "        )\n",
       "        (1): ASPPConv(\n",
       "          (0): Conv2d(2048, 256, kernel_size=(3, 3), stride=(1, 1), padding=(12, 12), dilation=(12, 12), bias=False)\n",
       "          (1): BatchNorm2d(256, eps=1e-05, momentum=0.1, affine=True, track_running_stats=True)\n",
       "          (2): ReLU()\n",
       "        )\n",
       "        (2): ASPPConv(\n",
       "          (0): Conv2d(2048, 256, kernel_size=(3, 3), stride=(1, 1), padding=(24, 24), dilation=(24, 24), bias=False)\n",
       "          (1): BatchNorm2d(256, eps=1e-05, momentum=0.1, affine=True, track_running_stats=True)\n",
       "          (2): ReLU()\n",
       "        )\n",
       "        (3): ASPPConv(\n",
       "          (0): Conv2d(2048, 256, kernel_size=(3, 3), stride=(1, 1), padding=(36, 36), dilation=(36, 36), bias=False)\n",
       "          (1): BatchNorm2d(256, eps=1e-05, momentum=0.1, affine=True, track_running_stats=True)\n",
       "          (2): ReLU()\n",
       "        )\n",
       "        (4): ASPPPooling(\n",
       "          (0): AdaptiveAvgPool2d(output_size=1)\n",
       "          (1): Conv2d(2048, 256, kernel_size=(1, 1), stride=(1, 1), bias=False)\n",
       "          (2): BatchNorm2d(256, eps=1e-05, momentum=0.1, affine=True, track_running_stats=True)\n",
       "          (3): ReLU()\n",
       "        )\n",
       "      )\n",
       "      (project): Sequential(\n",
       "        (0): Conv2d(1280, 256, kernel_size=(1, 1), stride=(1, 1), bias=False)\n",
       "        (1): BatchNorm2d(256, eps=1e-05, momentum=0.1, affine=True, track_running_stats=True)\n",
       "        (2): ReLU()\n",
       "        (3): Dropout(p=0.5, inplace=False)\n",
       "      )\n",
       "    )\n",
       "    (1): Conv2d(256, 256, kernel_size=(3, 3), stride=(1, 1), padding=(1, 1), bias=False)\n",
       "    (2): BatchNorm2d(256, eps=1e-05, momentum=0.1, affine=True, track_running_stats=True)\n",
       "    (3): ReLU()\n",
       "    (4): Sequential(\n",
       "      (0): Conv2d(256, 43, kernel_size=(1, 1), stride=(1, 1))\n",
       "    )\n",
       "  )\n",
       "  (aux_classifier): FCNHead(\n",
       "    (0): Conv2d(1024, 256, kernel_size=(3, 3), stride=(1, 1), padding=(1, 1), bias=False)\n",
       "    (1): BatchNorm2d(256, eps=1e-05, momentum=0.1, affine=True, track_running_stats=True)\n",
       "    (2): ReLU()\n",
       "    (3): Dropout(p=0.1, inplace=False)\n",
       "    (4): Conv2d(256, 21, kernel_size=(1, 1), stride=(1, 1))\n",
       "  )\n",
       ")"
      ]
     },
     "execution_count": 3,
     "metadata": {},
     "output_type": "execute_result"
    }
   ],
   "source": [
    "# loading the model and weights\n",
    "model = segmentation.deeplabv3_resnet50(pretrained=True)\n",
    "model.classifier[-1] = nn.Sequential(\n",
    "nn.Conv2d(256, 43, kernel_size=1))\n",
    "PATH= 'allparm_CE_classindexedGT100.pth'\n",
    "model.load_state_dict(torch.load(PATH))\n",
    "model.eval()"
   ]
  },
  {
   "cell_type": "code",
   "execution_count": 59,
   "id": "e95f309f-9803-4d42-a55b-76dc894d81fb",
   "metadata": {},
   "outputs": [
    {
     "name": "stdout",
     "output_type": "stream",
     "text": [
      "images batch shape is torch.Size([40, 3, 256, 256]) and targets batch shape is torch.Size([40, 1, 256, 256])\n",
      "image shape is torch.Size([3, 256, 256]) and target shape is torch.Size([1, 256, 256])\n",
      "output shape is torch.Size([40, 43, 256, 256])\n",
      "output shape before softmax is torch.Size([43, 256, 256])\n",
      "output prob shape after sigmoid  is torch.Size([43, 256, 256])\n",
      "binary_predictions shape after threshold is torch.Size([43, 256, 256])\n",
      "predictions shape after argmax is torch.Size([256, 256])\n",
      "preicted classes  tensor([21, 22, 23, 39])\n",
      "ground truth classes tensor([21, 22, 34, 39])\n",
      "pred shape, torch.Size([256, 256])\n",
      "target shape,  torch.Size([256, 256])\n",
      "iou -----> tensor(93.3798)  % \n"
     ]
    },
    {
     "data": {
      "image/png": "[encoded data removed]",
      "text/plain": [
       "<Figure size 1000x500 with 2 Axes>"
      ]
     },
     "metadata": {},
     "output_type": "display_data"
    }
   ],
   "source": [
    "import matplotlib.pyplot as plt\n",
    "\n",
    "from torch import tensor\n",
    "from torchmetrics.functional.classification import multiclass_jaccard_index, multilabel_jaccard_index\n",
    "images, targets = next(iter(dataloader))\n",
    "print(f'images batch shape is {images.shape} and targets batch shape is {targets.shape}')\n",
    "image, target = images[0], targets[0]\n",
    "print(f'image shape is {image.shape} and target shape is {target.shape}')\n",
    "\n",
    "\n",
    "input_tensor = images.float()\n",
    "input_tensor\n",
    "model.eval()\n",
    "# Make predictions\n",
    "\n",
    "with torch.no_grad():\n",
    "        outputs = model(input_tensor)['out']\n",
    "    \n",
    "print(f'output shape is {outputs.shape}')\n",
    "output = outputs[0]\n",
    "print(f'output shape before softmax is {output.shape}')# .detach().cpu().numpy()\n",
    "target = target[0]#.detach().cpu().numpy()\n",
    "output_prob = torch.sigmoid(output)\n",
    "\n",
    "print(f'output prob shape after sigmoid  is {output_prob.shape}')\n",
    "\n",
    "#binary_predictions = (output_prob > 0.5).cpu().numpy().astype(int)\n",
    "print(f'binary_predictions shape after threshold is {output_prob.shape}')\n",
    "\n",
    "prediction = torch.argmax(output_prob, dim = 0)\n",
    "print(f'predictions shape after argmax is {prediction.shape}')\n",
    "\n",
    "\n",
    "\n",
    "\n",
    "\n",
    "target = target.long()\n",
    "\n",
    "preds = prediction.long()\n",
    "\n",
    "print('preicted classes ',torch.unique(preds))\n",
    "print('ground truth classes',torch.unique(target))\n",
    "print('pred shape,',preds.shape)\n",
    "print('target shape, ', target.shape)\n",
    "print('iou ----->',multiclass_jaccard_index(preds, target, num_classes= 43, average='weighted')*100, ' % ')\n",
    "\n",
    "\n",
    "\n",
    "\n",
    "# Visualize the original image and predicted mask\n",
    "fig, axs = plt.subplots(1, 2, figsize=(10, 5))\n",
    "\n",
    "axs[1].imshow(target, cmap='jet', vmin=0, vmax=43)  \n",
    "axs[1].set_title('ground truth mask')\n",
    "axs[1].axis('off')\n",
    "\n",
    "axs[0].imshow(prediction, cmap='jet', vmin=0, vmax=43)\n",
    "axs[0].set_title('predicted mask')\n",
    "axs[0].axis('off')\n",
    "\n",
    "\n",
    "\n",
    "plt.show()"
   ]
  },
  {
   "cell_type": "markdown",
   "id": "6eb086b4",
   "metadata": {},
   "source": [
    "### validate the model performace using test dataset"
   ]
  },
  {
   "cell_type": "code",
   "execution_count": 61,
   "id": "ec43910d",
   "metadata": {},
   "outputs": [
    {
     "name": "stdout",
     "output_type": "stream",
     "text": [
      "images batch shape is torch.Size([40, 3, 256, 256]) and targets batch shape is torch.Size([40, 1, 256, 256])\n",
      "image shape is torch.Size([3, 256, 256]) and target shape is torch.Size([1, 256, 256])\n",
      "output shape is torch.Size([40, 43, 256, 256])\n",
      "output shape before softmax is torch.Size([43, 256, 256])\n",
      "output prob shape after sigmoid  is torch.Size([43, 256, 256])\n",
      "binary_predictions shape after threshold is torch.Size([43, 256, 256])\n",
      "predictions shape after argmax is torch.Size([256, 256])\n",
      "preicted classes  tensor([11, 19, 22, 23, 27])\n",
      "ground truth classes tensor([11, 19, 22, 23])\n",
      "pred shape, torch.Size([256, 256])\n",
      "target shape,  torch.Size([256, 256])\n",
      "iou -----> tensor(76.4240)  % \n"
     ]
    },
    {
     "data": {
      "image/png": "[encoded data removed]",
      "text/plain": [
       "<Figure size 1000x500 with 2 Axes>"
      ]
     },
     "metadata": {},
     "output_type": "display_data"
    }
   ],
   "source": [
    "import matplotlib.pyplot as plt\n",
    "\n",
    "from torch import tensor\n",
    "from torchmetrics.functional.classification import multiclass_jaccard_index, multilabel_jaccard_index\n",
    "\n",
    "images, targets = next(iter(test_dataloader))\n",
    "print(f'images batch shape is {images.shape} and targets batch shape is {targets.shape}')\n",
    "image, target = images[0], targets[0]\n",
    "print(f'image shape is {image.shape} and target shape is {target.shape}')\n",
    "###################################\n",
    "\n",
    "input_tensor = images.float()\n",
    "\n",
    "model.eval()\n",
    "with torch.no_grad():\n",
    "        outputs = model(input_tensor)['out']\n",
    "    \n",
    "print(f'output shape is {outputs.shape}')\n",
    "output = outputs[0]\n",
    "print(f'output shape before softmax is {output.shape}')# .detach().cpu().numpy()\n",
    "target = target[0]#.detach().cpu().numpy()\n",
    "output_prob = torch.sigmoid(output)\n",
    "\n",
    "print(f'output prob shape after sigmoid  is {output_prob.shape}')\n",
    "\n",
    "#binary_predictions = (output_prob > 0.5).cpu().numpy().astype(int)\n",
    "print(f'binary_predictions shape after threshold is {output_prob.shape}')\n",
    "\n",
    "prediction = torch.argmax(output_prob, dim = 0)\n",
    "print(f'predictions shape after argmax is {prediction.shape}')\n",
    "target = target.long()\n",
    "\n",
    "preds = prediction.long()\n",
    "\n",
    "print('preicted classes ',torch.unique(preds))\n",
    "print('ground truth classes',torch.unique(target))\n",
    "print('pred shape,',preds.shape)\n",
    "print('target shape, ', target.shape)\n",
    "print('iou ----->',multiclass_jaccard_index(preds, target, num_classes= 43, average='weighted')*100, ' % ')\n",
    "\n",
    "\n",
    "\n",
    "#############################\n",
    "# Visualize the original image and predicted mask\n",
    "fig, axs = plt.subplots(1, 2, figsize=(10, 5))\n",
    "\n",
    "axs[1].imshow(target, cmap='jet', vmin=0, vmax=43)  \n",
    "axs[1].set_title('ground truth mask')\n",
    "axs[1].axis('off')\n",
    "\n",
    "axs[0].imshow(prediction, cmap='jet', vmin=0, vmax=43)\n",
    "axs[0].set_title('predicted mask')\n",
    "axs[0].axis('off')\n",
    "##\n",
    "\n",
    "##\n",
    "plt.show()"
   ]
  },
  {
   "cell_type": "code",
   "execution_count": 72,
   "id": "e7dd57fb",
   "metadata": {},
   "outputs": [],
   "source": [
    "# Define your Monte Carlo Dropout function\n",
    "\n",
    "def mc_dropout(model, x, num_samples):\n",
    "    torch.cuda.empty_cache()\n",
    "    with torch.no_grad():\n",
    "        model.train()\n",
    "        x = x.to('cuda')\n",
    "        #print(x.shape)\n",
    "        #outputs = torch.zeros((num_samples,) + x.shape[1:])\n",
    "        smx = torch.softmax(model(x['out']), dim=1)\n",
    "        print(smx.shape)\n",
    "        output_classes = torch.argmax(smx, 1)\n",
    "        preds = [(smx.cpu().detach()) for i in range(num_samples)]\n",
    "        #pred = model(x)['out'].cpu().detach()\n",
    "        #print('model output is -->',model(x)['out'].size)\n",
    "        #preds.append(pred)\n",
    "        #torch.argmax(torch.softmax(, dim=0), 0)\n",
    "     \n",
    "    return preds"
   ]
  },
  {
   "cell_type": "code",
   "execution_count": 73,
   "id": "dd7724da",
   "metadata": {},
   "outputs": [
    {
     "ename": "TypeError",
     "evalue": "new(): invalid data type 'str'",
     "output_type": "error",
     "traceback": [
      "\u001b[0;31m---------------------------------------------------------------------------\u001b[0m",
      "\u001b[0;31mTypeError\u001b[0m                                 Traceback (most recent call last)",
      "\u001b[0;32m/tmp/ipykernel_110030/644424829.py\u001b[0m in \u001b[0;36m<module>\u001b[0;34m\u001b[0m\n\u001b[1;32m      1\u001b[0m \u001b[0mimages\u001b[0m\u001b[0;34m,\u001b[0m \u001b[0mtargets\u001b[0m \u001b[0;34m=\u001b[0m \u001b[0mnext\u001b[0m\u001b[0;34m(\u001b[0m\u001b[0miter\u001b[0m\u001b[0;34m(\u001b[0m\u001b[0mtest_dataloader\u001b[0m\u001b[0;34m)\u001b[0m\u001b[0;34m)\u001b[0m\u001b[0;34m\u001b[0m\u001b[0;34m\u001b[0m\u001b[0m\n\u001b[0;32m----> 2\u001b[0;31m \u001b[0mmc_dropout\u001b[0m\u001b[0;34m(\u001b[0m\u001b[0mmodel\u001b[0m\u001b[0;34m.\u001b[0m\u001b[0mcuda\u001b[0m\u001b[0;34m(\u001b[0m\u001b[0;34m)\u001b[0m\u001b[0;34m,\u001b[0m\u001b[0mimages\u001b[0m\u001b[0;34m.\u001b[0m\u001b[0mfloat\u001b[0m\u001b[0;34m(\u001b[0m\u001b[0;34m)\u001b[0m\u001b[0;34m,\u001b[0m \u001b[0;36m10\u001b[0m\u001b[0;34m)\u001b[0m\u001b[0;34m\u001b[0m\u001b[0;34m\u001b[0m\u001b[0m\n\u001b[0m",
      "\u001b[0;32m/tmp/ipykernel_110030/1698268163.py\u001b[0m in \u001b[0;36mmc_dropout\u001b[0;34m(model, x, num_samples)\u001b[0m\n\u001b[1;32m      8\u001b[0m         \u001b[0;31m#print(x.shape)\u001b[0m\u001b[0;34m\u001b[0m\u001b[0;34m\u001b[0m\u001b[0m\n\u001b[1;32m      9\u001b[0m         \u001b[0;31m#outputs = torch.zeros((num_samples,) + x.shape[1:])\u001b[0m\u001b[0;34m\u001b[0m\u001b[0;34m\u001b[0m\u001b[0m\n\u001b[0;32m---> 10\u001b[0;31m         \u001b[0msmx\u001b[0m \u001b[0;34m=\u001b[0m \u001b[0mtorch\u001b[0m\u001b[0;34m.\u001b[0m\u001b[0msoftmax\u001b[0m\u001b[0;34m(\u001b[0m\u001b[0mmodel\u001b[0m\u001b[0;34m(\u001b[0m\u001b[0mx\u001b[0m\u001b[0;34m[\u001b[0m\u001b[0;34m'out'\u001b[0m\u001b[0;34m]\u001b[0m\u001b[0;34m)\u001b[0m\u001b[0;34m,\u001b[0m \u001b[0mdim\u001b[0m\u001b[0;34m=\u001b[0m\u001b[0;36m1\u001b[0m\u001b[0;34m)\u001b[0m\u001b[0;34m\u001b[0m\u001b[0;34m\u001b[0m\u001b[0m\n\u001b[0m\u001b[1;32m     11\u001b[0m         \u001b[0mprint\u001b[0m\u001b[0;34m(\u001b[0m\u001b[0msmx\u001b[0m\u001b[0;34m.\u001b[0m\u001b[0mshape\u001b[0m\u001b[0;34m)\u001b[0m\u001b[0;34m\u001b[0m\u001b[0;34m\u001b[0m\u001b[0m\n\u001b[1;32m     12\u001b[0m         \u001b[0moutput_classes\u001b[0m \u001b[0;34m=\u001b[0m \u001b[0mtorch\u001b[0m\u001b[0;34m.\u001b[0m\u001b[0margmax\u001b[0m\u001b[0;34m(\u001b[0m\u001b[0msmx\u001b[0m\u001b[0;34m,\u001b[0m \u001b[0;36m1\u001b[0m\u001b[0;34m)\u001b[0m\u001b[0;34m\u001b[0m\u001b[0;34m\u001b[0m\u001b[0m\n",
      "\u001b[0;31mTypeError\u001b[0m: new(): invalid data type 'str'"
     ]
    }
   ],
   "source": [
    "images, targets = next(iter(test_dataloader))\n",
    "mc_dropout(model.cuda(),images.float(), 10)"
   ]
  },
  {
   "cell_type": "code",
   "execution_count": 26,
   "id": "44fe630f",
   "metadata": {},
   "outputs": [
    {
     "name": "stdout",
     "output_type": "stream",
     "text": [
      "40\n"
     ]
    },
    {
     "name": "stderr",
     "output_type": "stream",
     "text": [
      " 10%|███████████████████████▊                                                                                                                                                                                                                      | 1/10 [00:09<01:28,  9.79s/it]"
     ]
    },
    {
     "name": "stdout",
     "output_type": "stream",
     "text": [
      "output shape is torch.Size([43, 256, 256])\n",
      "predicitions shape torch.Size([1, 43, 256, 256])\n"
     ]
    },
    {
     "name": "stderr",
     "output_type": "stream",
     "text": [
      "\r",
      " 20%|███████████████████████████████████████████████▌                                                                                                                                                                                              | 2/10 [00:19<01:18,  9.77s/it]"
     ]
    },
    {
     "name": "stdout",
     "output_type": "stream",
     "text": [
      "output shape is torch.Size([43, 256, 256])\n",
      "predicitions shape torch.Size([2, 43, 256, 256])\n"
     ]
    },
    {
     "name": "stderr",
     "output_type": "stream",
     "text": [
      "\r",
      " 30%|███████████████████████████████████████████████████████████████████████▍                                                                                                                                                                      | 3/10 [00:29<01:08,  9.82s/it]"
     ]
    },
    {
     "name": "stdout",
     "output_type": "stream",
     "text": [
      "output shape is torch.Size([43, 256, 256])\n",
      "predicitions shape torch.Size([3, 43, 256, 256])\n"
     ]
    },
    {
     "name": "stderr",
     "output_type": "stream",
     "text": [
      "\r",
      " 40%|███████████████████████████████████████████████████████████████████████████████████████████████▏                                                                                                                                              | 4/10 [00:39<00:59,  9.92s/it]"
     ]
    },
    {
     "name": "stdout",
     "output_type": "stream",
     "text": [
      "output shape is torch.Size([43, 256, 256])\n",
      "predicitions shape torch.Size([4, 43, 256, 256])\n"
     ]
    },
    {
     "name": "stderr",
     "output_type": "stream",
     "text": [
      "\r",
      " 50%|███████████████████████████████████████████████████████████████████████████████████████████████████████████████████████                                                                                                                       | 5/10 [00:49<00:49,  9.87s/it]"
     ]
    },
    {
     "name": "stdout",
     "output_type": "stream",
     "text": [
      "output shape is torch.Size([43, 256, 256])\n",
      "predicitions shape torch.Size([5, 43, 256, 256])\n"
     ]
    },
    {
     "name": "stderr",
     "output_type": "stream",
     "text": [
      "\r",
      " 60%|██████████████████████████████████████████████████████████████████████████████████████████████████████████████████████████████████████████████▊                                                                                               | 6/10 [00:58<00:38,  9.64s/it]"
     ]
    },
    {
     "name": "stdout",
     "output_type": "stream",
     "text": [
      "output shape is torch.Size([43, 256, 256])\n",
      "predicitions shape torch.Size([6, 43, 256, 256])\n"
     ]
    },
    {
     "name": "stderr",
     "output_type": "stream",
     "text": [
      "\r",
      " 70%|██████████████████████████████████████████████████████████████████████████████████████████████████████████████████████████████████████████████████████████████████████▌                                                                       | 7/10 [01:07<00:28,  9.51s/it]"
     ]
    },
    {
     "name": "stdout",
     "output_type": "stream",
     "text": [
      "output shape is torch.Size([43, 256, 256])\n",
      "predicitions shape torch.Size([7, 43, 256, 256])\n"
     ]
    },
    {
     "name": "stderr",
     "output_type": "stream",
     "text": [
      "\r",
      " 80%|██████████████████████████████████████████████████████████████████████████████████████████████████████████████████████████████████████████████████████████████████████████████████████████████▍                                               | 8/10 [01:17<00:19,  9.58s/it]"
     ]
    },
    {
     "name": "stdout",
     "output_type": "stream",
     "text": [
      "output shape is torch.Size([43, 256, 256])\n",
      "predicitions shape torch.Size([8, 43, 256, 256])\n"
     ]
    },
    {
     "name": "stderr",
     "output_type": "stream",
     "text": [
      "\r",
      " 90%|██████████████████████████████████████████████████████████████████████████████████████████████████████████████████████████████████████████████████████████████████████████████████████████████████████████████████████▏                       | 9/10 [01:26<00:09,  9.54s/it]"
     ]
    },
    {
     "name": "stdout",
     "output_type": "stream",
     "text": [
      "output shape is torch.Size([43, 256, 256])\n",
      "predicitions shape torch.Size([9, 43, 256, 256])\n"
     ]
    },
    {
     "name": "stderr",
     "output_type": "stream",
     "text": [
      "100%|█████████████████████████████████████████████████████████████████████████████████████████████████████████████████████████████████████████████████████████████████████████████████████████████████████████████████████████████████████████████| 10/10 [01:36<00:00,  9.64s/it]"
     ]
    },
    {
     "name": "stdout",
     "output_type": "stream",
     "text": [
      "output shape is torch.Size([43, 256, 256])\n",
      "predicitions shape torch.Size([10, 43, 256, 256])\n",
      "mean of predicitons  torch.Size([43, 256, 256])\n"
     ]
    },
    {
     "name": "stderr",
     "output_type": "stream",
     "text": [
      "\n"
     ]
    },
    {
     "name": "stdout",
     "output_type": "stream",
     "text": [
      "variance of predicitions torch.Size([43, 256, 256])\n"
     ]
    }
   ],
   "source": [
    "import torch\n",
    "import torch.nn.functional as F\n",
    "images, targets = next(iter(test_dataloader))\n",
    "def mc_dropout(model, x, num_samples):\n",
    "    # Set the model to train mode to activate dropout layers\n",
    "    model.train()\n",
    "\n",
    "    # Move the model to the same device as the input tensor\n",
    "    device = x.device\n",
    "    print(x.shape[0])\n",
    "    model.to(device)\n",
    "    x=x.float()\n",
    "    preds =[]\n",
    "    # Create an empty tensor to store the predictions\n",
    "    '''predictions = torch.zeros((num_samples, x.size(0), 43\n",
    "                               , x.size(2), x.size(3)), device=device)\n",
    "'''\n",
    "    # Perform num_samples forward passes and store the predictions\n",
    "    for i in tqdm(range(num_samples)):\n",
    "        with torch.no_grad():\n",
    "            single_output = model(x)['out'][0]\n",
    "            print(f'output shape is {single_output.shape}')\n",
    "            preds.append(single_output)\n",
    "            \n",
    "            predictions = torch.stack(preds,dim =0)\n",
    "            print('predicitions shape',predictions.shape)\n",
    "    # Calculate mean and variance across the predictions\n",
    "    mean_prediction = torch.mean(predictions, dim=0)\n",
    "    print('mean of predicitons ',mean_prediction.shape)\n",
    "    variance_prediction = torch.var(predictions, dim=0)\n",
    "    print('variance of predicitions',variance_prediction.shape)\n",
    "    # Calculate uncertainty map using entropy\n",
    "    uncertainty_map = -torch.sum(F.softmax(mean_prediction, dim=0) * F.log_softmax(mean_prediction, dim=0), dim=0)\n",
    "\n",
    "    return mean_prediction, variance_prediction, uncertainty_map\n",
    "\n",
    "# Assuming 'model' is your DeepLabV3 model and 'images' is the input tensor for prediction\n",
    "num_samples = 10  # Number of forward passes for MC Dropout\n",
    "mean_prediction, variance_prediction, uncertainty_map = mc_dropout(model, images, num_samples)\n"
   ]
  },
  {
   "cell_type": "code",
   "execution_count": 27,
   "id": "6155a613",
   "metadata": {},
   "outputs": [
    {
     "data": {
      "text/plain": [
       "<matplotlib.image.AxesImage at 0x7f29fa0bfa90>"
      ]
     },
     "execution_count": 27,
     "metadata": {},
     "output_type": "execute_result"
    },
    {
     "data": {
      "image/png": "[encoded data removed]",
      "text/plain": [
       "<Figure size 640x480 with 1 Axes>"
      ]
     },
     "metadata": {},
     "output_type": "display_data"
    }
   ],
   "source": [
    "plt.imshow(uncertainty_map)"
   ]
  },
  {
   "cell_type": "code",
   "execution_count": 29,
   "id": "21864ccd",
   "metadata": {},
   "outputs": [
    {
     "data": {
      "image/png": "[encoded data removed]",
      "text/plain": [
       "<Figure size 640x480 with 2 Axes>"
      ]
     },
     "metadata": {},
     "output_type": "display_data"
    }
   ],
   "source": [
    "import matplotlib.pyplot as plt\n",
    "\n",
    "def visualize_uncertainty(uncertainty_map):\n",
    "    # Normalize the uncertainty values to [0, 1]\n",
    "    normalized_uncertainty = (uncertainty_map - uncertainty_map.min()) / (uncertainty_map.max() - uncertainty_map.min())\n",
    "\n",
    "    # Plot the uncertainty map as a grayscale heatmap\n",
    "    plt.imshow(normalized_uncertainty, cmap='gray')\n",
    "    plt.colorbar()\n",
    "    plt.title('Uncertainty Map')\n",
    "    plt.axis('off')\n",
    "    plt.show()\n",
    "\n",
    "# Assuming 'uncertainty_map' is the uncertainty map obtained from the mc_dropout function\n",
    "visualize_uncertainty(uncertainty_map)\n"
   ]
  },
  {
   "cell_type": "code",
   "execution_count": null,
   "id": "4128a0ab",
   "metadata": {},
   "outputs": [],
   "source": []
  }
 ],
 "metadata": {
  "kernelspec": {
   "display_name": "Python 3 (ipykernel)",
   "language": "python",
   "name": "python3"
  },
  "language_info": {
   "codemirror_mode": {
    "name": "ipython",
    "version": 3
   },
   "file_extension": ".py",
   "mimetype": "text/x-python",
   "name": "python",
   "nbconvert_exporter": "python",
   "pygments_lexer": "ipython3",
   "version": "3.9.12"
  }
 },
 "nbformat": 4,
 "nbformat_minor": 5
}
